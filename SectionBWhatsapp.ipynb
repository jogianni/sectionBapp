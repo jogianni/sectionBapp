{
  "nbformat": 4,
  "nbformat_minor": 0,
  "metadata": {
    "colab": {
      "name": "SectionBWhatsapp.ipynb",
      "provenance": [],
      "collapsed_sections": [],
      "authorship_tag": "ABX9TyMxlmKDgqZN8LF1I0kZuO80",
      "include_colab_link": true
    },
    "kernelspec": {
      "name": "python3",
      "display_name": "Python 3"
    }
  },
  "cells": [
    {
      "cell_type": "markdown",
      "metadata": {
        "id": "view-in-github",
        "colab_type": "text"
      },
      "source": [
        "<a href=\"https://colab.research.google.com/github/jogianni/sectionBapp/blob/main/SectionBWhatsapp.ipynb\" target=\"_parent\"><img src=\"https://colab.research.google.com/assets/colab-badge.svg\" alt=\"Open In Colab\"/></a>"
      ]
    },
    {
      "cell_type": "markdown",
      "metadata": {
        "id": "OdXSM4-IecVo"
      },
      "source": [
        "**IMPORTS**"
      ]
    },
    {
      "cell_type": "code",
      "metadata": {
        "id": "MBmZgymlX0gt",
        "colab": {
          "base_uri": "https://localhost:8080/"
        },
        "outputId": "27486431-8843-41be-9c12-d36fa798d02b"
      },
      "source": [
        "import pandas as pd\n",
        "import re\n",
        "import io\n",
        "import os\n",
        "from google.colab import drive\n",
        "from google.colab import files\n",
        "import numpy as np\n",
        "import datetime\n",
        "!pip install emoji --upgrade\n",
        "import emoji\n",
        "from collections import Counter"
      ],
      "execution_count": 1,
      "outputs": [
        {
          "output_type": "stream",
          "name": "stdout",
          "text": [
            "Collecting emoji\n",
            "  Downloading emoji-1.6.1.tar.gz (170 kB)\n",
            "\u001b[?25l\r\u001b[K     |██                              | 10 kB 31.8 MB/s eta 0:00:01\r\u001b[K     |███▉                            | 20 kB 23.4 MB/s eta 0:00:01\r\u001b[K     |█████▉                          | 30 kB 17.1 MB/s eta 0:00:01\r\u001b[K     |███████▊                        | 40 kB 15.2 MB/s eta 0:00:01\r\u001b[K     |█████████▋                      | 51 kB 6.6 MB/s eta 0:00:01\r\u001b[K     |███████████▋                    | 61 kB 7.1 MB/s eta 0:00:01\r\u001b[K     |█████████████▌                  | 71 kB 7.5 MB/s eta 0:00:01\r\u001b[K     |███████████████▍                | 81 kB 8.4 MB/s eta 0:00:01\r\u001b[K     |█████████████████▍              | 92 kB 8.7 MB/s eta 0:00:01\r\u001b[K     |███████████████████▎            | 102 kB 6.5 MB/s eta 0:00:01\r\u001b[K     |█████████████████████▏          | 112 kB 6.5 MB/s eta 0:00:01\r\u001b[K     |███████████████████████▏        | 122 kB 6.5 MB/s eta 0:00:01\r\u001b[K     |█████████████████████████       | 133 kB 6.5 MB/s eta 0:00:01\r\u001b[K     |███████████████████████████     | 143 kB 6.5 MB/s eta 0:00:01\r\u001b[K     |█████████████████████████████   | 153 kB 6.5 MB/s eta 0:00:01\r\u001b[K     |██████████████████████████████▉ | 163 kB 6.5 MB/s eta 0:00:01\r\u001b[K     |████████████████████████████████| 170 kB 6.5 MB/s \n",
            "\u001b[?25hBuilding wheels for collected packages: emoji\n",
            "  Building wheel for emoji (setup.py) ... \u001b[?25l\u001b[?25hdone\n",
            "  Created wheel for emoji: filename=emoji-1.6.1-py3-none-any.whl size=169314 sha256=82055215d2878e12b06d8410644525452ae8495663293b5fb1e2f6b176f8b5ee\n",
            "  Stored in directory: /root/.cache/pip/wheels/ea/5f/d3/03d313ddb3c2a1a427bb4690f1621eea60fe6f2a30cc95940f\n",
            "Successfully built emoji\n",
            "Installing collected packages: emoji\n",
            "Successfully installed emoji-1.6.1\n"
          ]
        }
      ]
    },
    {
      "cell_type": "code",
      "metadata": {
        "id": "HJUZEvNOX2C_",
        "colab": {
          "base_uri": "https://localhost:8080/"
        },
        "outputId": "f781d302-37c8-4346-c67a-5ed3a31cb153"
      },
      "source": [
        "drive.mount('/content/gdrive')\n",
        "root_path = 'gdrive/My Drive/IESE/'"
      ],
      "execution_count": 2,
      "outputs": [
        {
          "output_type": "stream",
          "name": "stdout",
          "text": [
            "Mounted at /content/gdrive\n"
          ]
        }
      ]
    },
    {
      "cell_type": "code",
      "metadata": {
        "id": "GEELl7ExX3hR"
      },
      "source": [
        "#os.listdir('/content/gdrive/My Drive/IESE')\n",
        "os.chdir('/content/gdrive/My Drive/IESE')"
      ],
      "execution_count": 3,
      "outputs": []
    },
    {
      "cell_type": "code",
      "metadata": {
        "id": "BpHTIKCqc_SJ"
      },
      "source": [
        "def read_file(file):\n",
        "    '''Reads Whatsapp text file into a list of strings'''\n",
        "    x = open(file,'r', encoding = 'utf-8') #Opens the text file into variable x but the variable cannot be explored yet\n",
        "    y = x.read() #By now it becomes a huge chunk of string that we need to separate line by line\n",
        "    content = y.splitlines() #The splitline method converts the chunk of string into a list of strings\n",
        "    return content\n",
        "\n",
        "chat = read_file('sectionB10.24.2021.txt')\n",
        "#051920212300_cut\n",
        "#sectionB10.24.2021"
      ],
      "execution_count": 25,
      "outputs": []
    },
    {
      "cell_type": "code",
      "metadata": {
        "id": "9k1xOy6YMFKW"
      },
      "source": [
        "#Drop lines that don't start with '[' - the class tends to send lots of lists with carriage returns. We don't want to count thoe as individual messages and it's hard to identify their owner, so we drop them\n",
        "chat = [x for x in chat if x.startswith('[')]"
      ],
      "execution_count": 26,
      "outputs": []
    },
    {
      "cell_type": "code",
      "metadata": {
        "id": "PR6mBJ4fYNCT",
        "colab": {
          "base_uri": "https://localhost:8080/"
        },
        "outputId": "bc3fa676-eb7c-4720-f343-f9f110f06dbb"
      },
      "source": [
        "#reads date in time if your phone is set to miliatary time\n",
        "#if you phone is am/pm d{2}.{3} is needed to replace the last d{2} in time \n",
        "regex = re.compile(r'\\[(?P<date>\\d{1,2}\\/\\d{1,2}\\/\\d{2})\\s(?P<time>\\d{1,2}:\\d{2}:\\d{2})]\\s(?P<Name>[^:]*):\\s(?P<content>.+|\\n+(?!)\\[\\d{2}\\/\\d{2}\\/\\d{4})')\n",
        "\n",
        "print (len(chat))\n",
        "chat_matches = [regex.search(content) for content in chat]\n",
        "chat_list = [m.groupdict() for m in chat_matches if not m is None]\n",
        "print (len(chat_list))\n",
        "#print (chat_list)"
      ],
      "execution_count": 27,
      "outputs": [
        {
          "output_type": "stream",
          "name": "stdout",
          "text": [
            "24215\n",
            "24062\n"
          ]
        }
      ]
    },
    {
      "cell_type": "code",
      "metadata": {
        "id": "K4ii7ScxUq3D"
      },
      "source": [
        "#reads date in time if your phone is set to am pm time\n",
        "\n",
        "#regex = re.compile(r'\\[(?P<date>\\d{1,2}\\/\\d{1,2}\\/\\d{2})\\s(?P<time>\\d{1,2}:\\d{2}:\\d{2}.{3})]\\s(?P<Name>[^:]*):\\s(?P<content>.+|\\n+(?!)\\[\\d{2}\\/\\d{2}\\/\\d{4})')\n",
        "\n",
        "#print (len(chat))\n",
        "#chat_matches = [regex.search(content) for content in chat]\n",
        "#chat_list = [m.groupdict() for m in chat_matches if not m is None]\n",
        "#print (len(chat_list))\n",
        "#print (chat_list)"
      ],
      "execution_count": null,
      "outputs": []
    },
    {
      "cell_type": "code",
      "metadata": {
        "id": "tPKDm7v9WaA4",
        "colab": {
          "base_uri": "https://localhost:8080/"
        },
        "outputId": "2da3a334-94f9-43e8-f807-cfb0fce25502"
      },
      "source": [
        "#make Dataframe\n",
        "df = pd.DataFrame(chat_list)\n",
        "\n",
        "df['datetime'] = pd.to_datetime(df['date'] + ' ' + df['time'])\n",
        "\n",
        "df['date'] = [datetime.datetime.strptime(x, '%d/%m/%y') for x in df['date']]\n",
        "\n",
        "#add some datums\n",
        "df['msg_len']  = df['content'].str.len()\n",
        "#Get word and message count\n",
        "df['Letter_Count'] = df['content'].apply(lambda s : len(s.replace(' ','')))\n",
        "df['Word_Count'] = df['content'].apply(lambda s : len(s.split(' ')))\n",
        "#letter and word totals\n",
        "df['Letter_Count'].sum(), df['Word_Count'].sum()"
      ],
      "execution_count": 28,
      "outputs": [
        {
          "output_type": "execute_result",
          "data": {
            "text/plain": [
              "(739905, 153996)"
            ]
          },
          "metadata": {},
          "execution_count": 28
        }
      ]
    },
    {
      "cell_type": "code",
      "metadata": {
        "id": "5LcAcvRZm1U4"
      },
      "source": [
        "#read in coa\n",
        "coa_df = pd.read_csv('COA.csv') "
      ],
      "execution_count": 29,
      "outputs": []
    },
    {
      "cell_type": "code",
      "metadata": {
        "id": "QCYo29hTmz7U"
      },
      "source": [
        "merged_df = pd.merge(left=df, right=coa_df, how='left', left_on='Name', right_on='Name')"
      ],
      "execution_count": 30,
      "outputs": []
    },
    {
      "cell_type": "code",
      "metadata": {
        "id": "nTY1D6_An8Pf",
        "colab": {
          "base_uri": "https://localhost:8080/",
          "height": 323
        },
        "outputId": "1a5bd19a-aa9e-412f-cd9a-59ddb33bac02"
      },
      "source": [
        "merged_df.head()"
      ],
      "execution_count": null,
      "outputs": [
        {
          "output_type": "execute_result",
          "data": {
            "text/html": [
              "<div>\n",
              "<style scoped>\n",
              "    .dataframe tbody tr th:only-of-type {\n",
              "        vertical-align: middle;\n",
              "    }\n",
              "\n",
              "    .dataframe tbody tr th {\n",
              "        vertical-align: top;\n",
              "    }\n",
              "\n",
              "    .dataframe thead th {\n",
              "        text-align: right;\n",
              "    }\n",
              "</style>\n",
              "<table border=\"1\" class=\"dataframe\">\n",
              "  <thead>\n",
              "    <tr style=\"text-align: right;\">\n",
              "      <th></th>\n",
              "      <th>date</th>\n",
              "      <th>time</th>\n",
              "      <th>Name</th>\n",
              "      <th>content</th>\n",
              "      <th>datetime</th>\n",
              "      <th>msg_len</th>\n",
              "      <th>Letter_Count</th>\n",
              "      <th>Word_Count</th>\n",
              "      <th>Team</th>\n",
              "      <th>Country of Origin</th>\n",
              "      <th>Diagnosed Country</th>\n",
              "    </tr>\n",
              "  </thead>\n",
              "  <tbody>\n",
              "    <tr>\n",
              "      <th>0</th>\n",
              "      <td>2019-09-02</td>\n",
              "      <td>12:37:01 PM</td>\n",
              "      <td>🏳️‍🌈 Best Section IESE 2021!</td>\n",
              "      <td>‎Los mensajes y las llamadas están cifrados de...</td>\n",
              "      <td>2019-02-09 12:37:01</td>\n",
              "      <td>143</td>\n",
              "      <td>121</td>\n",
              "      <td>23</td>\n",
              "      <td>NaN</td>\n",
              "      <td>NaN</td>\n",
              "      <td>NaN</td>\n",
              "    </tr>\n",
              "    <tr>\n",
              "      <th>1</th>\n",
              "      <td>2019-09-02</td>\n",
              "      <td>12:42:26 PM</td>\n",
              "      <td>‪+1 (514) 999‑4123‬</td>\n",
              "      <td>Lol love the logo! Well done Juli 🙌🙌</td>\n",
              "      <td>2019-02-09 12:42:26</td>\n",
              "      <td>36</td>\n",
              "      <td>29</td>\n",
              "      <td>8</td>\n",
              "      <td>NaN</td>\n",
              "      <td>NaN</td>\n",
              "      <td>NaN</td>\n",
              "    </tr>\n",
              "    <tr>\n",
              "      <th>2</th>\n",
              "      <td>2019-09-02</td>\n",
              "      <td>12:42:32 PM</td>\n",
              "      <td>Lucas Afonso</td>\n",
              "      <td>🙌🏻🙌🏻🙌🏻</td>\n",
              "      <td>2019-02-09 12:42:32</td>\n",
              "      <td>6</td>\n",
              "      <td>6</td>\n",
              "      <td>1</td>\n",
              "      <td>2.0</td>\n",
              "      <td>NaN</td>\n",
              "      <td>Brazil</td>\n",
              "    </tr>\n",
              "    <tr>\n",
              "      <th>3</th>\n",
              "      <td>2019-09-02</td>\n",
              "      <td>12:43:40 PM</td>\n",
              "      <td>Barbara Handam IESE</td>\n",
              "      <td>👏🏻👏🏻👏🏻</td>\n",
              "      <td>2019-02-09 12:43:40</td>\n",
              "      <td>6</td>\n",
              "      <td>6</td>\n",
              "      <td>1</td>\n",
              "      <td>4.0</td>\n",
              "      <td>Brazil</td>\n",
              "      <td>Brazil</td>\n",
              "    </tr>\n",
              "    <tr>\n",
              "      <th>4</th>\n",
              "      <td>2019-09-02</td>\n",
              "      <td>12:43:41 PM</td>\n",
              "      <td>Chris Coraggio IESE</td>\n",
              "      <td>B = Bad Bitches</td>\n",
              "      <td>2019-02-09 12:43:41</td>\n",
              "      <td>15</td>\n",
              "      <td>12</td>\n",
              "      <td>4</td>\n",
              "      <td>8.0</td>\n",
              "      <td>United States</td>\n",
              "      <td>United States</td>\n",
              "    </tr>\n",
              "  </tbody>\n",
              "</table>\n",
              "</div>"
            ],
            "text/plain": [
              "        date         time  ... Country of Origin Diagnosed Country\n",
              "0 2019-09-02  12:37:01 PM  ...               NaN               NaN\n",
              "1 2019-09-02  12:42:26 PM  ...               NaN               NaN\n",
              "2 2019-09-02  12:42:32 PM  ...               NaN            Brazil\n",
              "3 2019-09-02  12:43:40 PM  ...            Brazil            Brazil\n",
              "4 2019-09-02  12:43:41 PM  ...     United States     United States\n",
              "\n",
              "[5 rows x 11 columns]"
            ]
          },
          "metadata": {
            "tags": []
          },
          "execution_count": 26
        }
      ]
    },
    {
      "cell_type": "code",
      "metadata": {
        "id": "ZY3RK_JLdAk6"
      },
      "source": [
        "merged_df.to_csv(\"051920212300_converted.csv\",index=False)"
      ],
      "execution_count": null,
      "outputs": []
    },
    {
      "cell_type": "code",
      "metadata": {
        "id": "L6NALllBm7Sa"
      },
      "source": [
        "def extract_emojis(str):\n",
        "    return ''.join(c for c in str if c in emoji.UNICODE_EMOJI)\n"
      ],
      "execution_count": null,
      "outputs": []
    },
    {
      "cell_type": "code",
      "metadata": {
        "id": "bk2FnLZp0H64"
      },
      "source": [
        "def Count_Emojis(df, only_one_per_message = False):\n",
        "    series = df['content']\n",
        "    all_words = \"\"\n",
        "    for sentence in series:\n",
        "        all_words += extract_emojis(sentence)\n",
        "    word_count = Counter(all_words)\n",
        "    \n",
        "    \n",
        "    ordered = {}\n",
        "    \n",
        "    for key, number in word_count.most_common()[:50]:\n",
        "        ordered[key] = []\n",
        "    \n",
        "    for sentence in series:\n",
        "        sentence_count = Counter(extract_emojis(sentence))\n",
        "        \n",
        "        for word in ordered:\n",
        "            if only_one_per_message:\n",
        "                count = 1 if sentence_count[word] else 0\n",
        "            else:\n",
        "                count = sentence_count[word] if sentence_count[word] else 0\n",
        "            ordered[word] += [count] \n",
        "             \n",
        "            \n",
        "    ordered['content'] = list(series)\n",
        "    ordered['date'] = list(df['date'])\n",
        "    ordered['Name'] = list(df['Name'])\n",
        "    ordered['Country of Origin'] = list(df['Country of Origin'])\n",
        "    ordered['Diagnosed Country'] = list(df['Diagnosed Country'])\n",
        "    ordered['Team'] = list(df['Team'])\n",
        "    \n",
        "    return pd.DataFrame(ordered)"
      ],
      "execution_count": null,
      "outputs": []
    },
    {
      "cell_type": "code",
      "metadata": {
        "id": "ZEBb0r0x081D"
      },
      "source": [
        "emojis_counts = Count_Emojis(merged_df)"
      ],
      "execution_count": null,
      "outputs": []
    },
    {
      "cell_type": "code",
      "metadata": {
        "id": "uqlG-X32LpZi",
        "colab": {
          "base_uri": "https://localhost:8080/",
          "height": 662
        },
        "outputId": "892e5d28-397c-4b9c-ec09-dcc84c752c65"
      },
      "source": [
        "emojis_counts.head(20)"
      ],
      "execution_count": null,
      "outputs": [
        {
          "output_type": "execute_result",
          "data": {
            "text/html": [
              "<div>\n",
              "<style scoped>\n",
              "    .dataframe tbody tr th:only-of-type {\n",
              "        vertical-align: middle;\n",
              "    }\n",
              "\n",
              "    .dataframe tbody tr th {\n",
              "        vertical-align: top;\n",
              "    }\n",
              "\n",
              "    .dataframe thead th {\n",
              "        text-align: right;\n",
              "    }\n",
              "</style>\n",
              "<table border=\"1\" class=\"dataframe\">\n",
              "  <thead>\n",
              "    <tr style=\"text-align: right;\">\n",
              "      <th></th>\n",
              "      <th>content</th>\n",
              "      <th>date</th>\n",
              "      <th>Name</th>\n",
              "      <th>Country of Origin</th>\n",
              "      <th>Diagnosed Country</th>\n",
              "      <th>Team</th>\n",
              "    </tr>\n",
              "  </thead>\n",
              "  <tbody>\n",
              "    <tr>\n",
              "      <th>0</th>\n",
              "      <td>‎Los mensajes y las llamadas están cifrados de...</td>\n",
              "      <td>2019-09-02</td>\n",
              "      <td>🏳️‍🌈 Best Section IESE 2021!</td>\n",
              "      <td>NaN</td>\n",
              "      <td>NaN</td>\n",
              "      <td>NaN</td>\n",
              "    </tr>\n",
              "    <tr>\n",
              "      <th>1</th>\n",
              "      <td>Lol love the logo! Well done Juli 🙌🙌</td>\n",
              "      <td>2019-09-02</td>\n",
              "      <td>‪+1 (514) 999‑4123‬</td>\n",
              "      <td>NaN</td>\n",
              "      <td>NaN</td>\n",
              "      <td>NaN</td>\n",
              "    </tr>\n",
              "    <tr>\n",
              "      <th>2</th>\n",
              "      <td>🙌🏻🙌🏻🙌🏻</td>\n",
              "      <td>2019-09-02</td>\n",
              "      <td>Lucas Afonso</td>\n",
              "      <td>NaN</td>\n",
              "      <td>Brazil</td>\n",
              "      <td>2.0</td>\n",
              "    </tr>\n",
              "    <tr>\n",
              "      <th>3</th>\n",
              "      <td>👏🏻👏🏻👏🏻</td>\n",
              "      <td>2019-09-02</td>\n",
              "      <td>Barbara Handam IESE</td>\n",
              "      <td>Brazil</td>\n",
              "      <td>Brazil</td>\n",
              "      <td>4.0</td>\n",
              "    </tr>\n",
              "    <tr>\n",
              "      <th>4</th>\n",
              "      <td>B = Bad Bitches</td>\n",
              "      <td>2019-09-02</td>\n",
              "      <td>Chris Coraggio IESE</td>\n",
              "      <td>United States</td>\n",
              "      <td>United States</td>\n",
              "      <td>8.0</td>\n",
              "    </tr>\n",
              "    <tr>\n",
              "      <th>5</th>\n",
              "      <td>😂</td>\n",
              "      <td>2019-09-02</td>\n",
              "      <td>Aparna Murali</td>\n",
              "      <td>India</td>\n",
              "      <td>India</td>\n",
              "      <td>7.0</td>\n",
              "    </tr>\n",
              "    <tr>\n",
              "      <th>6</th>\n",
              "      <td>Hhahaha loved this 😂</td>\n",
              "      <td>2019-09-02</td>\n",
              "      <td>Julieta Lucci</td>\n",
              "      <td>NaN</td>\n",
              "      <td>Argentina</td>\n",
              "      <td>8.0</td>\n",
              "    </tr>\n",
              "    <tr>\n",
              "      <th>7</th>\n",
              "      <td>💪🏼💪🏼💪🏼</td>\n",
              "      <td>2019-09-02</td>\n",
              "      <td>Parsa Ghavimi</td>\n",
              "      <td>NaN</td>\n",
              "      <td>Iran</td>\n",
              "      <td>4.0</td>\n",
              "    </tr>\n",
              "    <tr>\n",
              "      <th>8</th>\n",
              "      <td>Oops :)</td>\n",
              "      <td>2019-09-02</td>\n",
              "      <td>‪+34 687 11 41 67‬</td>\n",
              "      <td>NaN</td>\n",
              "      <td>NaN</td>\n",
              "      <td>NaN</td>\n",
              "    </tr>\n",
              "    <tr>\n",
              "      <th>9</th>\n",
              "      <td>Hahahaha</td>\n",
              "      <td>2019-09-02</td>\n",
              "      <td>‪+1 (514) 999‑4123‬</td>\n",
              "      <td>NaN</td>\n",
              "      <td>NaN</td>\n",
              "      <td>NaN</td>\n",
              "    </tr>\n",
              "    <tr>\n",
              "      <th>10</th>\n",
              "      <td>Barcelona’s Bad Bitches 😂</td>\n",
              "      <td>2019-09-02</td>\n",
              "      <td>Julieta Lucci</td>\n",
              "      <td>NaN</td>\n",
              "      <td>Argentina</td>\n",
              "      <td>8.0</td>\n",
              "    </tr>\n",
              "    <tr>\n",
              "      <th>11</th>\n",
              "      <td>BBB 😂😂</td>\n",
              "      <td>2019-09-02</td>\n",
              "      <td>‪+1 (514) 999‑4123‬</td>\n",
              "      <td>NaN</td>\n",
              "      <td>NaN</td>\n",
              "      <td>NaN</td>\n",
              "    </tr>\n",
              "    <tr>\n",
              "      <th>12</th>\n",
              "      <td>😂😂😈</td>\n",
              "      <td>2019-09-02</td>\n",
              "      <td>Parsa Ghavimi</td>\n",
              "      <td>NaN</td>\n",
              "      <td>Iran</td>\n",
              "      <td>4.0</td>\n",
              "    </tr>\n",
              "    <tr>\n",
              "      <th>13</th>\n",
              "      <td>Ligação de convite para o meu grupo no WhatsAp...</td>\n",
              "      <td>2019-09-02</td>\n",
              "      <td>Francisco Sá IESE</td>\n",
              "      <td>Portugal</td>\n",
              "      <td>Portugal</td>\n",
              "      <td>4.0</td>\n",
              "    </tr>\n",
              "    <tr>\n",
              "      <th>14</th>\n",
              "      <td>Team B4... jump in!</td>\n",
              "      <td>2019-09-02</td>\n",
              "      <td>Francisco Sá IESE</td>\n",
              "      <td>Portugal</td>\n",
              "      <td>Portugal</td>\n",
              "      <td>4.0</td>\n",
              "    </tr>\n",
              "    <tr>\n",
              "      <th>15</th>\n",
              "      <td>😂😂😂 love it</td>\n",
              "      <td>2019-09-02</td>\n",
              "      <td>Barbara Handam IESE</td>\n",
              "      <td>Brazil</td>\n",
              "      <td>Brazil</td>\n",
              "      <td>4.0</td>\n",
              "    </tr>\n",
              "    <tr>\n",
              "      <th>16</th>\n",
              "      <td>NEED NEW LOGO NOW :)</td>\n",
              "      <td>2019-09-02</td>\n",
              "      <td>Chris Coraggio IESE</td>\n",
              "      <td>United States</td>\n",
              "      <td>United States</td>\n",
              "      <td>8.0</td>\n",
              "    </tr>\n",
              "    <tr>\n",
              "      <th>17</th>\n",
              "      <td>‎imagen omitida</td>\n",
              "      <td>2019-09-02</td>\n",
              "      <td>Francisco Sá IESE</td>\n",
              "      <td>Portugal</td>\n",
              "      <td>Portugal</td>\n",
              "      <td>4.0</td>\n",
              "    </tr>\n",
              "    <tr>\n",
              "      <th>18</th>\n",
              "      <td>Wooooooo</td>\n",
              "      <td>2019-09-02</td>\n",
              "      <td>Luiza Cervetto</td>\n",
              "      <td>NaN</td>\n",
              "      <td>Brazil</td>\n",
              "      <td>6.0</td>\n",
              "    </tr>\n",
              "    <tr>\n",
              "      <th>19</th>\n",
              "      <td>‎imagen omitida</td>\n",
              "      <td>2019-09-02</td>\n",
              "      <td>Aparna Murali</td>\n",
              "      <td>India</td>\n",
              "      <td>India</td>\n",
              "      <td>7.0</td>\n",
              "    </tr>\n",
              "  </tbody>\n",
              "</table>\n",
              "</div>"
            ],
            "text/plain": [
              "                                              content  ... Team\n",
              "0   ‎Los mensajes y las llamadas están cifrados de...  ...  NaN\n",
              "1                Lol love the logo! Well done Juli 🙌🙌  ...  NaN\n",
              "2                                              🙌🏻🙌🏻🙌🏻  ...  2.0\n",
              "3                                              👏🏻👏🏻👏🏻  ...  4.0\n",
              "4                                     B = Bad Bitches  ...  8.0\n",
              "5                                                   😂  ...  7.0\n",
              "6                                Hhahaha loved this 😂  ...  8.0\n",
              "7                                              💪🏼💪🏼💪🏼  ...  4.0\n",
              "8                                             Oops :)  ...  NaN\n",
              "9                                            Hahahaha  ...  NaN\n",
              "10                          Barcelona’s Bad Bitches 😂  ...  8.0\n",
              "11                                             BBB 😂😂  ...  NaN\n",
              "12                                                😂😂😈  ...  4.0\n",
              "13  Ligação de convite para o meu grupo no WhatsAp...  ...  4.0\n",
              "14                                Team B4... jump in!  ...  4.0\n",
              "15                                        😂😂😂 love it  ...  4.0\n",
              "16                               NEED NEW LOGO NOW :)  ...  8.0\n",
              "17                                    ‎imagen omitida  ...  4.0\n",
              "18                                           Wooooooo  ...  6.0\n",
              "19                                    ‎imagen omitida  ...  7.0\n",
              "\n",
              "[20 rows x 6 columns]"
            ]
          },
          "metadata": {
            "tags": []
          },
          "execution_count": 42
        }
      ]
    },
    {
      "cell_type": "code",
      "metadata": {
        "id": "5UOxdESuoYBM"
      },
      "source": [
        "emojis_counts.to_csv(\"051920212300_converted_emoji.csv\",index=False)"
      ],
      "execution_count": null,
      "outputs": []
    },
    {
      "cell_type": "code",
      "metadata": {
        "id": "WsITIeKkdbv8"
      },
      "source": [
        "def get_most_replied_users(replies_dict):\n",
        "    most_replied ='|'.join(sorted(replies_dict, key=lambda key: replies_dict[key],reverse=True)[:3])\n",
        "    return most_replied"
      ],
      "execution_count": null,
      "outputs": []
    },
    {
      "cell_type": "code",
      "metadata": {
        "id": "Bi97ucGjme7-"
      },
      "source": [
        "def count_user_replies(df):\n",
        "    reply_duration_minutes = 2 #minutes\n",
        "    users_replied_to_user = {}\n",
        "    #iterate through messages\n",
        "    for index, row in df.iterrows():\n",
        "        d = row['datetime'] #current messge datetime\n",
        "        user = row['Name']\n",
        "        #if user is not in the dictionary add it\n",
        "        if not user in users_replied_to_user:\n",
        "            users_replied_to_user[user] = []\n",
        "        \n",
        "        #find the messages within a time window after the current message datetime\n",
        "        user_replies = df[(df['datetime'] > d) & (df['datetime'] < d+datetime.timedelta(minutes=reply_duration_minutes))]['Name']\n",
        "        users_replied_to_user[user]+=list(set(user_replies)) #only non-duplicates\n",
        "\n",
        "    #use Counter to count frequency of replies\n",
        "    for k,v in users_replied_to_user.items():\n",
        "        users_replied_to_user[k] = Counter(v)\n",
        "    \n",
        "    return users_replied_to_user"
      ],
      "execution_count": null,
      "outputs": []
    },
    {
      "cell_type": "code",
      "metadata": {
        "id": "3XHPuk6Ndtmc"
      },
      "source": [
        "replies =   count_user_replies(df)"
      ],
      "execution_count": null,
      "outputs": []
    },
    {
      "cell_type": "code",
      "metadata": {
        "id": "g-lIPyQTd_FM",
        "colab": {
          "base_uri": "https://localhost:8080/"
        },
        "outputId": "96180546-f327-4234-c500-5972cb3d799d"
      },
      "source": [
        "print (replies)\n"
      ],
      "execution_count": null,
      "outputs": [
        {
          "output_type": "stream",
          "text": [
            "{'🏳️\\u200d🌈 Best Section IESE 2021!': Counter(), '\\u202a+1\\xa0(514)\\xa0999‑4123\\u202c': Counter({'Aparna Murali': 3, 'Parsa Ghavimi': 3, 'Jaime Llorente IESE': 3, 'Julieta Lucci': 2, '\\u202a+1\\xa0(514)\\xa0999‑4123\\u202c': 2, 'Francisco Sá IESE': 2, '\\u202a+55\\xa021\\xa098712‑5391\\u202c': 2, 'Jasson': 2, 'Lucas Afonso': 1, 'Chris Coraggio IESE': 1, '\\u202a+34\\xa0687\\xa011\\xa041\\xa067\\u202c': 1, 'Barbara Handam IESE': 1, 'Hari Harsha': 1}), 'Lucas Afonso': Counter({'Lucas Afonso': 276, 'Jasson': 59, 'Francisco Sá IESE': 46, 'Claudia IESE 🇪🇸': 46, 'Gonzalo Diaz': 37, 'Chris Coraggio IESE': 32, 'Parsa Ghavimi': 31, 'Barbara Handam IESE': 29, 'Dan Faermark': 28, 'Andy Klein Iese': 27, 'Thais Cirenza': 24, 'Juana Toranzos': 24, 'Jose IESE': 23, 'Jorge Arbolí': 20, 'Pia Fabbroni': 19, 'Julieta Lucci': 18, 'Jordan Altaras': 17, 'Natalia Krüger IESE': 15, 'Natalia Krüger': 12, 'Roberto Siman': 12, 'Disha IESE': 12, 'Eugenia Delosrios IESE': 12, 'Krishna Chaitanya': 11, 'Dino IESE': 11, 'Matthieu Haddad IESE': 10, 'Luiza Cervetto': 10, 'Ana Paula IESE': 10, 'Aparna Murali': 9, 'Nesi Laros': 9, 'Diogo Borges De Andrade IESE': 9, 'Marilyn Heymann': 9, 'Andrea Biancardi': 9, 'Alessandro Galli': 9, 'Aakanksha': 8, 'Andres Pan De Soraluce': 8, 'Pranav IESE': 8, 'Jaime Llorente IESE': 8, 'Veronica Rodriguez': 8, 'Michael Gross': 7, 'Andres Villanueva': 7, 'Hakan Karabey': 7, 'Cody Brasel': 6, 'Marc IESE': 6, 'Alvaro Benito IESE': 6, 'Eric Wong IESE': 6, 'Valentina Posada': 5, 'Harry HH IESE': 5, 'Robin': 5, 'Charlie Porter': 4, 'Alan Luer IESE': 4, 'Jay Mohnot': 4, 'Ricard Vilella IESE': 4, 'Reyes DuPont IESE': 3, 'Carlos España': 3, 'Parth IESE': 2, 'Wiehahn Gouws': 2, 'Taebo Shim': 2, 'Jie Yang IESE': 2, 'Shelly IESE 🇨🇦': 2, 'Hari Harsha': 2, 'Philip Pratte IESE': 2, '\\u202a+34\\xa0687\\xa011\\xa041\\xa067\\u202c': 1, 'Juan Diego Mujica IESE': 1, 'Tote Picañol': 1, 'Sebastian Cyprus': 1, 'Shun Sekine IESE': 1, 'Caio Tonon': 1, 'Maria Carnal IESE': 1, 'Ting Wei Huang IESE': 1, 'Por Boonyam': 1}), 'Barbara Handam IESE': Counter({'Barbara Handam IESE': 94, 'Jasson': 71, 'Francisco Sá IESE': 51, 'Claudia IESE 🇪🇸': 49, 'Gonzalo Diaz': 48, 'Pia Fabbroni': 48, 'Chris Coraggio IESE': 42, 'Parsa Ghavimi': 39, 'Dan Faermark': 32, 'Andy Klein Iese': 31, 'Jorge Arbolí': 28, 'Juana Toranzos': 25, 'Lucas Afonso': 22, 'Roberto Siman': 21, 'Aakanksha': 20, 'Julieta Lucci': 18, 'Veronica Rodriguez': 18, 'Thais Cirenza': 18, 'Jaime Llorente IESE': 18, 'Aparna Murali': 16, 'Cody Brasel': 16, 'Pranav IESE': 15, 'Jordan Altaras': 14, 'Marc IESE': 13, 'Jose IESE': 13, 'Disha IESE': 13, 'Andrea Biancardi': 12, 'Hakan Karabey': 11, 'Wiehahn Gouws': 11, 'Harry HH IESE': 11, 'Parth IESE': 10, 'Natalia Krüger IESE': 10, 'Marilyn Heymann': 10, 'Ana Paula IESE': 10, 'Alessandro Galli': 10, 'Luiza Cervetto': 10, 'Robin': 10, 'Matthieu Haddad IESE': 10, 'Jay Mohnot': 9, 'Eugenia Delosrios IESE': 8, 'Eric Wong IESE': 7, 'Krishna Chaitanya': 7, 'Michael Gross': 7, 'Taebo Shim': 7, 'Charlie Porter': 6, 'Andres Pan De Soraluce': 6, '\\u202a+34\\xa0687\\xa011\\xa041\\xa067\\u202c': 5, 'Ricard Vilella IESE': 5, 'Valentina Posada': 4, 'Caio Tonon': 4, 'Juan Diego Mujica IESE': 4, 'Diogo Borges De Andrade IESE': 4, 'Natalia Krüger': 3, 'Dino IESE': 3, 'Reyes DuPont IESE': 3, 'Shelly IESE 🇨🇦': 3, 'Nesi Laros': 3, 'Maria Carnal IESE': 3, 'Alan Luer IESE': 3, 'Hari Harsha': 3, 'Slivia IESE': 3, '\\u202a+55\\xa021\\xa098712‑5391\\u202c': 2, 'Philip Pratte IESE': 2, 'Tote Picañol': 2, 'Ásgeir IESE': 2, 'Sebastian Cyprus': 2, 'Jie Yang IESE': 2, '\\u202a+1\\xa0(514)\\xa0999‑4123\\u202c': 1, 'Por Boonyam': 1, 'Andres Villanueva': 1, 'Alvaro Benito IESE': 1, 'Carlos España': 1, '\\u202a+351\\xa0913\\xa0401\\xa0922\\u202c': 1}), 'Chris Coraggio IESE': Counter({'Chris Coraggio IESE': 312, 'Gonzalo Diaz': 114, 'Jasson': 110, 'Pia Fabbroni': 94, 'Francisco Sá IESE': 90, 'Claudia IESE 🇪🇸': 89, 'Andy Klein Iese': 76, 'Dan Faermark': 65, 'Jorge Arbolí': 64, 'Barbara Handam IESE': 58, 'Parsa Ghavimi': 56, 'Juana Toranzos': 56, 'Jordan Altaras': 52, 'Roberto Siman': 44, 'Jose IESE': 40, 'Julieta Lucci': 38, 'Disha IESE': 35, 'Aakanksha': 34, 'Lucas Afonso': 32, 'Aparna Murali': 26, 'Veronica Rodriguez': 25, 'Pranav IESE': 24, 'Jaime Llorente IESE': 22, 'Charlie Porter': 21, 'Hakan Karabey': 21, 'Michael Gross': 20, 'Matthieu Haddad IESE': 20, 'Natalia Krüger IESE': 20, 'Harry HH IESE': 20, 'Cody Brasel': 18, 'Ana Paula IESE': 18, 'Robin': 18, 'Eugenia Delosrios IESE': 16, 'Thais Cirenza': 16, 'Diogo Borges De Andrade IESE': 15, 'Parth IESE': 15, 'Marc IESE': 13, 'Marilyn Heymann': 13, 'Taebo Shim': 13, 'Andres Villanueva': 13, 'Andrea Biancardi': 12, 'Luiza Cervetto': 12, 'Wiehahn Gouws': 12, 'Alessandro Galli': 10, 'Eric Wong IESE': 10, 'Ricard Vilella IESE': 10, 'Alan Luer IESE': 9, 'Dino IESE': 8, 'Maria Carnal IESE': 8, 'Krishna Chaitanya': 7, 'Sebastian Cyprus': 5, 'Caio Tonon': 5, 'Andres Pan De Soraluce': 5, 'Natalia Krüger': 4, 'Hari Harsha': 4, 'Juan Diego Mujica IESE': 4, 'Jay Mohnot': 4, 'Shelly IESE 🇨🇦': 4, 'Ásgeir IESE': 4, 'Nikita IESE': 3, 'Alvaro Benito IESE': 3, 'Ting Wei Huang IESE': 3, 'Valentina Posada': 3, 'Slivia IESE': 3, '\\u202a+34\\xa0687\\xa011\\xa041\\xa067\\u202c': 2, 'Jie Yang IESE': 2, 'Tote Picañol': 2, 'Reyes DuPont IESE': 2, 'Por Boonyam': 2, '\\u202a+1\\xa0(514)\\xa0999‑4123\\u202c': 1, '\\u202a+65\\xa09730\\xa01447\\u202c': 1, '\\u202a+51\\xa0973\\xa0833\\xa0697\\u202c': 1, 'Philip Pratte IESE': 1, 'Jan Warmus': 1, 'Shun Sekine IESE': 1, 'Yuka Ato IESE': 1, 'Peter Shim IESE': 1}), 'Aparna Murali': Counter({'Jasson': 28, 'Gonzalo Diaz': 21, 'Francisco Sá IESE': 20, 'Aparna Murali': 19, 'Pia Fabbroni': 17, 'Parsa Ghavimi': 16, 'Dan Faermark': 15, 'Barbara Handam IESE': 15, 'Chris Coraggio IESE': 15, 'Claudia IESE 🇪🇸': 14, 'Andy Klein Iese': 12, 'Lucas Afonso': 12, 'Jorge Arbolí': 11, 'Juana Toranzos': 11, 'Jose IESE': 10, 'Julieta Lucci': 9, 'Thais Cirenza': 9, 'Disha IESE': 9, 'Veronica Rodriguez': 8, 'Cody Brasel': 8, 'Jordan Altaras': 8, 'Eric Wong IESE': 8, 'Eugenia Delosrios IESE': 7, 'Pranav IESE': 7, 'Jaime Llorente IESE': 6, 'Aakanksha': 6, 'Roberto Siman': 6, 'Andres Pan De Soraluce': 6, 'Luiza Cervetto': 6, 'Sebastian Cyprus': 6, 'Parth IESE': 6, 'Jay Mohnot': 5, 'Charlie Porter': 5, 'Dino IESE': 5, 'Ricard Vilella IESE': 5, 'Alvaro Benito IESE': 4, 'Michael Gross': 4, 'Ana Paula IESE': 4, 'Alessandro Galli': 4, 'Hakan Karabey': 4, 'Diogo Borges De Andrade IESE': 4, 'Matthieu Haddad IESE': 4, 'Marc IESE': 4, 'Andrea Biancardi': 4, 'Maria Carnal IESE': 3, 'Natalia Krüger IESE': 3, 'Robin': 3, 'Andres Villanueva': 3, 'Krishna Chaitanya': 3, 'Natalia Krüger': 2, 'Caio Tonon': 2, 'Taebo Shim': 2, 'Juan Diego Mujica IESE': 2, 'Slivia IESE': 2, 'Alan Luer IESE': 2, 'Harry HH IESE': 2, '\\u202a+34\\xa0687\\xa011\\xa041\\xa067\\u202c': 1, '\\u202a+1\\xa0(514)\\xa0999‑4123\\u202c': 1, '\\u202a+55\\xa021\\xa098712‑5391\\u202c': 1, 'Jan Warmus': 1, 'Jie Yang IESE': 1, 'Hari Harsha': 1, 'Ting Wei Huang IESE': 1, 'Reyes DuPont IESE': 1, 'Marilyn Heymann': 1, 'Carlos España': 1, 'Ásgeir IESE': 1, 'Nesi Laros': 1, 'Peter Shim IESE': 1}), 'Julieta Lucci': Counter({'Julieta Lucci': 96, 'Pia Fabbroni': 41, 'Francisco Sá IESE': 34, 'Chris Coraggio IESE': 33, 'Jasson': 33, 'Andy Klein Iese': 25, 'Parsa Ghavimi': 23, 'Barbara Handam IESE': 23, 'Jorge Arbolí': 20, 'Gonzalo Diaz': 20, 'Claudia IESE 🇪🇸': 17, 'Dan Faermark': 17, 'Juana Toranzos': 16, 'Aakanksha': 14, 'Jose IESE': 13, 'Wiehahn Gouws': 13, 'Cody Brasel': 13, 'Lucas Afonso': 11, 'Aparna Murali': 11, 'Thais Cirenza': 11, 'Disha IESE': 11, 'Dino IESE': 10, 'Charlie Porter': 10, 'Jaime Llorente IESE': 8, 'Natalia Krüger IESE': 8, 'Marc IESE': 7, 'Alessandro Galli': 7, 'Parth IESE': 6, 'Harry HH IESE': 6, 'Roberto Siman': 6, 'Luiza Cervetto': 6, 'Veronica Rodriguez': 6, 'Alvaro Benito IESE': 5, 'Natalia Krüger': 5, 'Ana Paula IESE': 5, 'Andrea Biancardi': 4, 'Jordan Altaras': 4, 'Ting Wei Huang IESE': 4, 'Diogo Borges De Andrade IESE': 4, 'Ricard Vilella IESE': 4, 'Shun Sekine IESE': 3, 'Michael Gross': 3, 'Eric Wong IESE': 3, 'Maria Carnal IESE': 3, 'Nikita IESE': 3, 'Pranav IESE': 3, '\\u202a+1\\xa0(514)\\xa0999‑4123\\u202c': 2, 'Matthieu Haddad IESE': 2, 'Marilyn Heymann': 2, 'Andres Pan De Soraluce': 2, 'Krishna Chaitanya': 2, 'Taebo Shim': 2, 'Por Boonyam': 2, 'Hakan Karabey': 2, 'Eugenia Delosrios IESE': 2, 'Reyes DuPont IESE': 2, '\\u202a+34\\xa0687\\xa011\\xa041\\xa067\\u202c': 1, 'Sebastian Cyprus': 1, 'Jie Yang IESE': 1, 'Caio Tonon': 1, 'Tote Picañol': 1, 'Andres Villanueva': 1, 'Shelly IESE 🇨🇦': 1, 'Philip Pratte IESE': 1, 'Robin': 1, 'Ásgeir IESE': 1, 'Valentina Posada': 1, '\\u202a+56\\xa09\\xa07543\\xa07459\\u202c': 1}), 'Parsa Ghavimi': Counter({'Parsa Ghavimi': 279, 'Francisco Sá IESE': 86, 'Pia Fabbroni': 71, 'Claudia IESE 🇪🇸': 69, 'Dan Faermark': 64, 'Andy Klein Iese': 61, 'Jasson': 60, 'Barbara Handam IESE': 58, 'Chris Coraggio IESE': 58, 'Gonzalo Diaz': 54, 'Jorge Arbolí': 44, 'Roberto Siman': 41, 'Veronica Rodriguez': 32, 'Jaime Llorente IESE': 29, 'Juana Toranzos': 28, 'Jordan Altaras': 28, 'Disha IESE': 26, 'Julieta Lucci': 25, 'Thais Cirenza': 25, 'Aparna Murali': 24, 'Jose IESE': 22, 'Eugenia Delosrios IESE': 22, 'Lucas Afonso': 21, 'Hakan Karabey': 19, 'Cody Brasel': 18, 'Charlie Porter': 16, 'Dino IESE': 15, 'Luiza Cervetto': 15, 'Natalia Krüger IESE': 14, 'Robin': 14, 'Alvaro Benito IESE': 13, 'Marilyn Heymann': 12, 'Aakanksha': 11, 'Parth IESE': 11, 'Matthieu Haddad IESE': 11, 'Pranav IESE': 10, 'Ana Paula IESE': 10, 'Marc IESE': 10, 'Alessandro Galli': 10, 'Harry HH IESE': 10, 'Michael Gross': 9, 'Slivia IESE': 9, 'Wiehahn Gouws': 9, 'Andrea Biancardi': 9, 'Sebastian Cyprus': 9, 'Eric Wong IESE': 9, 'Diogo Borges De Andrade IESE': 8, 'Andres Villanueva': 8, 'Caio Tonon': 7, 'Maria Carnal IESE': 7, 'Shelly IESE 🇨🇦': 6, 'Taebo Shim': 6, 'Jay Mohnot': 6, 'Nesi Laros': 6, 'Hari Harsha': 5, 'Natalia Krüger': 4, 'Krishna Chaitanya': 4, 'Nikita IESE': 4, 'Ricard Vilella IESE': 4, 'Philip Pratte IESE': 3, 'Andres Pan De Soraluce': 3, 'Alan Luer IESE': 3, 'Tote Picañol': 2, 'Juan Diego Mujica IESE': 2, '\\u202a+56\\xa09\\xa07543\\xa07459\\u202c': 2, '\\u202a+351\\xa0913\\xa0401\\xa0922\\u202c': 2, '\\u202a+34\\xa0687\\xa011\\xa041\\xa067\\u202c': 1, '\\u202a+1\\xa0(514)\\xa0999‑4123\\u202c': 1, '\\u202a+55\\xa021\\xa098712‑5391\\u202c': 1, 'Valentina Posada': 1, 'Reyes DuPont IESE': 1, 'Ásgeir IESE': 1}), '\\u202a+34\\xa0687\\xa011\\xa041\\xa067\\u202c': Counter({'\\u202a+34\\xa0687\\xa011\\xa041\\xa067\\u202c': 6, 'Francisco Sá IESE': 4, 'Parsa Ghavimi': 3, 'Roberto Siman': 3, 'Julieta Lucci': 2, 'Natalia Krüger': 2, 'Juana Toranzos': 2, 'Aparna Murali': 2, 'Alvaro Benito IESE': 2, 'Jasson': 2, 'Barbara Handam IESE': 2, '\\u202a+1\\xa0(514)\\xa0999‑4123\\u202c': 1, 'Caio Tonon': 1, 'Aakanksha': 1, 'Andrea Biancardi': 1, 'Dan Faermark': 1, 'Charlie Porter': 1, 'Jaime Llorente IESE': 1, 'Reyes DuPont IESE': 1, 'Disha IESE': 1, 'Chris Coraggio IESE': 1}), 'Francisco Sá IESE': Counter({'Francisco Sá IESE': 535, 'Jasson': 137, 'Chris Coraggio IESE': 125, 'Gonzalo Diaz': 123, 'Pia Fabbroni': 104, 'Parsa Ghavimi': 95, 'Claudia IESE 🇪🇸': 94, 'Barbara Handam IESE': 87, 'Dan Faermark': 83, 'Andy Klein Iese': 74, 'Jose IESE': 64, 'Roberto Siman': 57, 'Juana Toranzos': 56, 'Jordan Altaras': 52, 'Julieta Lucci': 51, 'Jorge Arbolí': 47, 'Robin': 47, 'Thais Cirenza': 45, 'Lucas Afonso': 43, 'Veronica Rodriguez': 42, 'Aparna Murali': 36, 'Natalia Krüger IESE': 36, 'Eugenia Delosrios IESE': 30, 'Andrea Biancardi': 29, 'Parth IESE': 29, 'Eric Wong IESE': 28, 'Pranav IESE': 28, 'Wiehahn Gouws': 26, 'Disha IESE': 26, 'Krishna Chaitanya': 23, 'Aakanksha': 22, 'Michael Gross': 22, 'Jaime Llorente IESE': 22, 'Ricard Vilella IESE': 22, 'Harry HH IESE': 21, 'Cody Brasel': 20, 'Dino IESE': 19, 'Marc IESE': 18, 'Hakan Karabey': 18, 'Alessandro Galli': 18, 'Andres Pan De Soraluce': 17, 'Charlie Porter': 17, 'Matthieu Haddad IESE': 16, 'Marilyn Heymann': 16, 'Jay Mohnot': 15, 'Alvaro Benito IESE': 12, 'Natalia Krüger': 11, 'Luiza Cervetto': 10, 'Diogo Borges De Andrade IESE': 10, 'Maria Carnal IESE': 9, 'Ana Paula IESE': 9, 'Ting Wei Huang IESE': 8, 'Andres Villanueva': 8, '\\u202a+34\\xa0687\\xa011\\xa041\\xa067\\u202c': 6, 'Taebo Shim': 6, 'Caio Tonon': 6, 'Sebastian Cyprus': 6, 'Slivia IESE': 6, 'Nikita IESE': 5, 'Tote Picañol': 5, 'Hari Harsha': 5, 'Carlos España': 4, 'Philip Pratte IESE': 3, 'Nesi Laros': 3, 'Ásgeir IESE': 3, '\\u202a+51\\xa0973\\xa0833\\xa0697\\u202c': 2, 'Jie Yang IESE': 2, 'Shelly IESE 🇨🇦': 2, 'Alan Luer IESE': 2, 'Juan Diego Mujica IESE': 1, 'Peter Shim IESE': 1, 'Reyes DuPont IESE': 1}), 'Luiza Cervetto': Counter({'Luiza Cervetto': 27, 'Gonzalo Diaz': 15, 'Pia Fabbroni': 13, 'Jasson': 13, 'Barbara Handam IESE': 12, 'Chris Coraggio IESE': 11, 'Francisco Sá IESE': 11, 'Dan Faermark': 9, 'Parsa Ghavimi': 9, 'Aparna Murali': 8, 'Jorge Arbolí': 8, 'Jordan Altaras': 7, 'Hakan Karabey': 7, 'Claudia IESE 🇪🇸': 7, 'Julieta Lucci': 6, 'Thais Cirenza': 6, 'Cody Brasel': 6, 'Juana Toranzos': 6, 'Alessandro Galli': 5, 'Charlie Porter': 5, 'Andy Klein Iese': 5, 'Jose IESE': 5, 'Eric Wong IESE': 5, 'Roberto Siman': 4, 'Pranav IESE': 4, 'Parth IESE': 4, 'Marc IESE': 4, 'Matthieu Haddad IESE': 4, 'Disha IESE': 4, 'Michael Gross': 3, 'Ana Paula IESE': 3, 'Harry HH IESE': 3, 'Eugenia Delosrios IESE': 3, 'Lucas Afonso': 3, 'Andrea Biancardi': 3, 'Aakanksha': 2, 'Caio Tonon': 2, 'Sebastian Cyprus': 2, 'Dino IESE': 2, 'Ásgeir IESE': 2, 'Reyes DuPont IESE': 2, 'Jaime Llorente IESE': 2, 'Maria Carnal IESE': 1, 'Valentina Posada': 1, 'Juan Diego Mujica IESE': 1, 'Marilyn Heymann': 1, 'Alvaro Benito IESE': 1, 'Carlos España': 1, 'Andres Pan De Soraluce': 1, 'Philip Pratte IESE': 1, 'Wiehahn Gouws': 1, 'Slivia IESE': 1, 'Robin': 1, 'Krishna Chaitanya': 1}), 'Pranav IESE': Counter({'Pranav IESE': 52, 'Pia Fabbroni': 33, 'Jasson': 26, 'Chris Coraggio IESE': 24, 'Claudia IESE 🇪🇸': 22, 'Andy Klein Iese': 19, 'Dan Faermark': 19, 'Roberto Siman': 19, 'Francisco Sá IESE': 18, 'Gonzalo Diaz': 18, 'Jorge Arbolí': 17, 'Barbara Handam IESE': 15, 'Parsa Ghavimi': 14, 'Juana Toranzos': 12, 'Aparna Murali': 11, 'Disha IESE': 11, 'Jose IESE': 11, 'Jordan Altaras': 10, 'Thais Cirenza': 9, 'Slivia IESE': 9, 'Jay Mohnot': 8, 'Andres Villanueva': 8, 'Julieta Lucci': 7, 'Jaime Llorente IESE': 7, 'Matthieu Haddad IESE': 7, 'Juan Diego Mujica IESE': 7, 'Cody Brasel': 7, 'Veronica Rodriguez': 7, 'Alessandro Galli': 6, 'Lucas Afonso': 6, 'Hakan Karabey': 6, 'Parth IESE': 6, 'Krishna Chaitanya': 6, 'Eric Wong IESE': 6, 'Harry HH IESE': 6, 'Andrea Biancardi': 5, 'Caio Tonon': 5, 'Taebo Shim': 5, 'Ricard Vilella IESE': 5, 'Sebastian Cyprus': 5, 'Diogo Borges De Andrade IESE': 5, 'Ana Paula IESE': 5, 'Aakanksha': 4, 'Michael Gross': 4, 'Natalia Krüger IESE': 4, 'Luiza Cervetto': 4, 'Wiehahn Gouws': 4, 'Alan Luer IESE': 4, 'Marc IESE': 3, 'Hari Harsha': 3, 'Reyes DuPont IESE': 3, 'Natalia Krüger': 2, 'Alvaro Benito IESE': 2, 'Ting Wei Huang IESE': 2, 'Philip Pratte IESE': 2, 'Marilyn Heymann': 2, 'Valentina Posada': 2, 'Nesi Laros': 2, 'Peter Shim IESE': 2, '\\u202a+51\\xa0973\\xa0833\\xa0697\\u202c': 1, 'Tote Picañol': 1, 'Andres Pan De Soraluce': 1, 'Eugenia Delosrios IESE': 1, 'Nikita IESE': 1, 'Robin': 1, 'Charlie Porter': 1, 'Por Boonyam': 1, 'Carlos España': 1, 'Maria Carnal IESE': 1}), 'Jasson': Counter({'Jasson': 287, 'Claudia IESE 🇪🇸': 137, 'Francisco Sá IESE': 116, 'Chris Coraggio IESE': 110, 'Gonzalo Diaz': 103, 'Pia Fabbroni': 86, 'Dan Faermark': 81, 'Barbara Handam IESE': 74, 'Parsa Ghavimi': 71, 'Andy Klein Iese': 70, 'Jorge Arbolí': 56, 'Juana Toranzos': 42, 'Jordan Altaras': 41, 'Aakanksha': 40, 'Thais Cirenza': 38, 'Roberto Siman': 38, 'Michael Gross': 33, 'Natalia Krüger IESE': 32, 'Pranav IESE': 31, 'Veronica Rodriguez': 31, 'Julieta Lucci': 31, 'Lucas Afonso': 30, 'Hakan Karabey': 27, 'Aparna Murali': 26, 'Matthieu Haddad IESE': 26, 'Eugenia Delosrios IESE': 26, 'Jaime Llorente IESE': 24, 'Cody Brasel': 24, 'Andrea Biancardi': 23, 'Harry HH IESE': 22, 'Marilyn Heymann': 22, 'Dino IESE': 21, 'Ricard Vilella IESE': 21, 'Jose IESE': 20, 'Robin': 20, 'Charlie Porter': 18, 'Andres Pan De Soraluce': 18, 'Diogo Borges De Andrade IESE': 18, 'Marc IESE': 17, 'Alessandro Galli': 17, 'Disha IESE': 17, 'Wiehahn Gouws': 13, 'Ana Paula IESE': 12, 'Slivia IESE': 11, 'Parth IESE': 10, 'Caio Tonon': 9, 'Eric Wong IESE': 9, 'Andres Villanueva': 9, 'Krishna Chaitanya': 9, 'Natalia Krüger': 8, 'Alan Luer IESE': 8, 'Luiza Cervetto': 8, 'Sebastian Cyprus': 7, 'Jay Mohnot': 7, 'Reyes DuPont IESE': 5, 'Tote Picañol': 5, 'Maria Carnal IESE': 5, 'Alvaro Benito IESE': 4, 'Philip Pratte IESE': 4, 'Taebo Shim': 4, 'Jan Warmus': 4, 'Nesi Laros': 4, 'Ásgeir IESE': 3, 'Juan Diego Mujica IESE': 3, 'Ting Wei Huang IESE': 3, 'Hari Harsha': 3, '\\u202a+1\\xa0(514)\\xa0999‑4123\\u202c': 2, 'Carlos España': 2, 'Nikita IESE': 2, 'Shun Sekine IESE': 2, '\\u202a+55\\xa021\\xa098712‑5391\\u202c': 1, 'Valentina Posada': 1, '\\u202a+51\\xa0973\\xa0833\\xa0697\\u202c': 1, '\\u202a+56\\xa09\\xa09021\\xa00217\\u202c': 1, '\\u202a+34\\xa0687\\xa011\\xa041\\xa067\\u202c': 1, 'Shelly IESE 🇨🇦': 1, 'Jie Yang IESE': 1, '\\u202a+56\\xa09\\xa07543\\xa07459\\u202c': 1}), 'Nikita IESE': Counter({'Nikita IESE': 11, 'Dan Faermark': 7, 'Eric Wong IESE': 6, 'Pia Fabbroni': 6, 'Francisco Sá IESE': 5, 'Jasson': 4, 'Shelly IESE 🇨🇦': 3, 'Chris Coraggio IESE': 2, 'Julieta Lucci': 2, 'Lucas Afonso': 2, 'Jorge Arbolí': 2, 'Ting Wei Huang IESE': 2, 'Juana Toranzos': 2, 'Pranav IESE': 2, 'Andrea Biancardi': 2, 'Jordan Altaras': 2, 'Wiehahn Gouws': 1, 'Aparna Murali': 1, 'Disha IESE': 1, 'Andres Villanueva': 1, 'Marilyn Heymann': 1, 'Matthieu Haddad IESE': 1, 'Roberto Siman': 1, 'Andy Klein Iese': 1, 'Michael Gross': 1}), 'Natalia Krüger': Counter({'Natalia Krüger': 25, 'Jasson': 15, 'Lucas Afonso': 8, 'Francisco Sá IESE': 6, 'Barbara Handam IESE': 5, 'Jordan Altaras': 4, 'Jaime Llorente IESE': 4, 'Gonzalo Diaz': 4, 'Aakanksha': 4, 'Claudia IESE 🇪🇸': 4, 'Aparna Murali': 3, 'Caio Tonon': 3, 'Alvaro Benito IESE': 3, 'Pranav IESE': 3, 'Michael Gross': 3, 'Pia Fabbroni': 3, 'Eugenia Delosrios IESE': 2, 'Maria Carnal IESE': 2, '\\u202a+51\\xa0973\\xa0833\\xa0697\\u202c': 2, 'Shelly IESE 🇨🇦': 2, 'Dan Faermark': 2, 'Parsa Ghavimi': 2, 'Valentina Posada': 2, 'Roberto Siman': 1, '\\u202a+34\\xa0687\\xa011\\xa041\\xa067\\u202c': 1, 'Juana Toranzos': 1, 'Philip Pratte IESE': 1, 'Andy Klein Iese': 1, 'Dino IESE': 1, 'Julieta Lucci': 1, 'Alessandro Galli': 1, 'Chris Coraggio IESE': 1, 'Reyes DuPont IESE': 1, 'Wiehahn Gouws': 1}), 'Dan Faermark': Counter({'Dan Faermark': 323, 'Claudia IESE 🇪🇸': 149, 'Jasson': 111, 'Francisco Sá IESE': 92, 'Gonzalo Diaz': 91, 'Chris Coraggio IESE': 74, 'Pia Fabbroni': 67, 'Parsa Ghavimi': 56, 'Barbara Handam IESE': 53, 'Jordan Altaras': 52, 'Andy Klein Iese': 52, 'Jorge Arbolí': 51, 'Juana Toranzos': 46, 'Roberto Siman': 41, 'Lucas Afonso': 25, 'Jose IESE': 23, 'Julieta Lucci': 22, 'Thais Cirenza': 19, 'Pranav IESE': 19, 'Harry HH IESE': 19, 'Aparna Murali': 18, 'Marilyn Heymann': 17, 'Disha IESE': 17, 'Hakan Karabey': 16, 'Matthieu Haddad IESE': 15, 'Alvaro Benito IESE': 15, 'Ricard Vilella IESE': 15, 'Eugenia Delosrios IESE': 14, 'Veronica Rodriguez': 14, 'Diogo Borges De Andrade IESE': 14, 'Aakanksha': 14, 'Charlie Porter': 13, 'Eric Wong IESE': 12, 'Marc IESE': 12, 'Jaime Llorente IESE': 12, 'Cody Brasel': 11, 'Michael Gross': 11, 'Robin': 11, 'Maria Carnal IESE': 10, 'Andres Villanueva': 10, 'Wiehahn Gouws': 9, 'Andrea Biancardi': 9, 'Alessandro Galli': 9, 'Krishna Chaitanya': 9, 'Natalia Krüger IESE': 8, 'Slivia IESE': 8, 'Caio Tonon': 7, 'Hari Harsha': 7, 'Ana Paula IESE': 7, 'Parth IESE': 6, 'Reyes DuPont IESE': 6, 'Andres Pan De Soraluce': 6, 'Sebastian Cyprus': 5, 'Shelly IESE 🇨🇦': 5, 'Luiza Cervetto': 4, 'Ting Wei Huang IESE': 4, 'Dino IESE': 4, 'Tote Picañol': 4, 'Taebo Shim': 4, 'Nikita IESE': 3, '\\u202a+34\\xa0687\\xa011\\xa041\\xa067\\u202c': 2, 'Jan Warmus': 2, 'Jay Mohnot': 2, 'Juan Diego Mujica IESE': 2, 'Nesi Laros': 2, 'Philip Pratte IESE': 2, '\\u202a+55\\xa021\\xa098712‑5391\\u202c': 1, '\\u202a+51\\xa0973\\xa0833\\xa0697\\u202c': 1, '\\u202a+51\\xa0996\\xa0209\\xa0339\\u202c': 1, 'Alan Luer IESE': 1, 'Natalia Krüger': 1, 'Carlos España': 1, 'Shun Sekine IESE': 1, 'Ásgeir IESE': 1, 'Valentina Posada': 1, '\\u202a+56\\xa09\\xa07543\\xa07459\\u202c': 1, '\\u202a+351\\xa0913\\xa0401\\xa0922\\u202c': 1}), 'Disha IESE': Counter({'Disha IESE': 55, 'Jasson': 34, 'Pia Fabbroni': 32, 'Chris Coraggio IESE': 31, 'Francisco Sá IESE': 25, 'Parsa Ghavimi': 21, 'Juana Toranzos': 19, 'Claudia IESE 🇪🇸': 19, 'Jorge Arbolí': 15, 'Gonzalo Diaz': 15, 'Dan Faermark': 14, 'Pranav IESE': 12, 'Andy Klein Iese': 12, 'Jordan Altaras': 12, 'Jaime Llorente IESE': 10, 'Diogo Borges De Andrade IESE': 10, 'Veronica Rodriguez': 9, 'Ana Paula IESE': 9, 'Thais Cirenza': 9, 'Roberto Siman': 8, 'Barbara Handam IESE': 8, 'Julieta Lucci': 8, 'Cody Brasel': 8, 'Parth IESE': 8, 'Jose IESE': 8, 'Matthieu Haddad IESE': 8, 'Eric Wong IESE': 8, 'Aparna Murali': 8, 'Aakanksha': 7, 'Marilyn Heymann': 7, 'Slivia IESE': 7, 'Hakan Karabey': 7, 'Michael Gross': 6, 'Lucas Afonso': 6, 'Eugenia Delosrios IESE': 5, 'Natalia Krüger IESE': 5, 'Juan Diego Mujica IESE': 5, 'Andrea Biancardi': 5, 'Robin': 5, 'Krishna Chaitanya': 4, 'Alvaro Benito IESE': 4, 'Marc IESE': 4, 'Alessandro Galli': 4, 'Harry HH IESE': 4, 'Charlie Porter': 3, 'Sebastian Cyprus': 3, 'Ásgeir IESE': 3, 'Jay Mohnot': 3, 'Shelly IESE 🇨🇦': 3, 'Nesi Laros': 3, 'Jie Yang IESE': 3, 'Reyes DuPont IESE': 3, 'Alan Luer IESE': 3, 'Caio Tonon': 3, 'Andres Villanueva': 3, 'Luiza Cervetto': 3, 'Ricard Vilella IESE': 3, 'Ting Wei Huang IESE': 3, 'Philip Pratte IESE': 2, 'Valentina Posada': 2, 'Andres Pan De Soraluce': 2, 'Wiehahn Gouws': 1, 'Maria Carnal IESE': 1, 'Hari Harsha': 1, 'Taebo Shim': 1}), 'Eugenia Delosrios IESE': Counter({'Eugenia Delosrios IESE': 58, 'Claudia IESE 🇪🇸': 32, 'Jasson': 28, 'Barbara Handam IESE': 26, 'Pia Fabbroni': 22, 'Francisco Sá IESE': 17, 'Juana Toranzos': 16, 'Parsa Ghavimi': 16, 'Gonzalo Diaz': 15, 'Dan Faermark': 13, 'Chris Coraggio IESE': 11, 'Jorge Arbolí': 11, 'Andrea Biancardi': 8, 'Parth IESE': 8, 'Andy Klein Iese': 8, 'Disha IESE': 7, 'Alvaro Benito IESE': 6, 'Wiehahn Gouws': 6, 'Caio Tonon': 5, 'Roberto Siman': 5, 'Jordan Altaras': 5, 'Jaime Llorente IESE': 5, 'Thais Cirenza': 5, 'Ting Wei Huang IESE': 5, 'Jose IESE': 4, 'Krishna Chaitanya': 4, 'Ricard Vilella IESE': 4, 'Pranav IESE': 4, 'Aparna Murali': 4, 'Natalia Krüger IESE': 4, 'Diogo Borges De Andrade IESE': 4, 'Veronica Rodriguez': 4, 'Marc IESE': 4, 'Julieta Lucci': 4, 'Matthieu Haddad IESE': 4, 'Luiza Cervetto': 4, 'Jay Mohnot': 4, 'Cody Brasel': 3, 'Ana Paula IESE': 3, 'Andres Pan De Soraluce': 3, 'Eric Wong IESE': 3, 'Sebastian Cyprus': 3, 'Lucas Afonso': 3, 'Juan Diego Mujica IESE': 3, 'Natalia Krüger': 2, '\\u202a+34\\xa0687\\xa011\\xa041\\xa067\\u202c': 2, 'Maria Carnal IESE': 2, 'Robin': 2, 'Marilyn Heymann': 2, 'Hakan Karabey': 2, '\\u202a+56\\xa09\\xa09021\\xa00217\\u202c': 1, 'Dino IESE': 1, 'Andres Villanueva': 1, 'Michael Gross': 1, 'Charlie Porter': 1, 'Alessandro Galli': 1, 'Aakanksha': 1}), 'Juana Toranzos': Counter({'Juana Toranzos': 91, 'Francisco Sá IESE': 45, 'Chris Coraggio IESE': 43, 'Jasson': 42, 'Pia Fabbroni': 38, 'Claudia IESE 🇪🇸': 38, 'Dan Faermark': 36, 'Gonzalo Diaz': 34, 'Barbara Handam IESE': 33, 'Andy Klein Iese': 30, 'Parsa Ghavimi': 28, 'Jose IESE': 24, 'Jorge Arbolí': 24, 'Veronica Rodriguez': 21, 'Julieta Lucci': 20, 'Aparna Murali': 19, 'Disha IESE': 19, 'Roberto Siman': 18, 'Jordan Altaras': 17, 'Andrea Biancardi': 16, 'Thais Cirenza': 15, 'Pranav IESE': 14, 'Jaime Llorente IESE': 14, 'Parth IESE': 13, 'Lucas Afonso': 13, 'Dino IESE': 12, 'Marilyn Heymann': 11, 'Aakanksha': 10, 'Cody Brasel': 10, 'Andres Villanueva': 10, 'Hakan Karabey': 10, 'Charlie Porter': 9, 'Natalia Krüger IESE': 9, 'Eric Wong IESE': 8, 'Alvaro Benito IESE': 8, 'Marc IESE': 8, 'Luiza Cervetto': 8, 'Ricard Vilella IESE': 8, 'Robin': 8, 'Ana Paula IESE': 8, 'Diogo Borges De Andrade IESE': 8, 'Jay Mohnot': 7, 'Matthieu Haddad IESE': 6, 'Alessandro Galli': 6, 'Eugenia Delosrios IESE': 6, 'Michael Gross': 6, 'Wiehahn Gouws': 6, 'Caio Tonon': 5, 'Maria Carnal IESE': 5, 'Harry HH IESE': 5, 'Sebastian Cyprus': 5, '\\u202a+34\\xa0687\\xa011\\xa041\\xa067\\u202c': 4, 'Ásgeir IESE': 4, 'Krishna Chaitanya': 4, 'Slivia IESE': 4, 'Reyes DuPont IESE': 3, 'Juan Diego Mujica IESE': 3, 'Andres Pan De Soraluce': 3, '\\u202a+1\\xa0(514)\\xa0999‑4123\\u202c': 2, 'Alan Luer IESE': 2, 'Valentina Posada': 2, 'Natalia Krüger': 1, '\\u202a+51\\xa0973\\xa0833\\xa0697\\u202c': 1, 'Tote Picañol': 1, 'Jie Yang IESE': 1, 'Shelly IESE 🇨🇦': 1, 'Taebo Shim': 1, 'Nikita IESE': 1, 'Hari Harsha': 1, 'Nesi Laros': 1, 'Philip Pratte IESE': 1}), 'Roberto Siman': Counter({'Roberto Siman': 170, 'Jasson': 56, 'Gonzalo Diaz': 46, 'Chris Coraggio IESE': 46, 'Francisco Sá IESE': 44, 'Parsa Ghavimi': 44, 'Andy Klein Iese': 44, 'Claudia IESE 🇪🇸': 36, 'Pia Fabbroni': 36, 'Dan Faermark': 28, 'Lucas Afonso': 23, 'Barbara Handam IESE': 18, 'Jorge Arbolí': 18, 'Jose IESE': 15, 'Juana Toranzos': 15, 'Julieta Lucci': 15, 'Jaime Llorente IESE': 13, 'Natalia Krüger IESE': 13, 'Jordan Altaras': 13, 'Thais Cirenza': 12, 'Disha IESE': 12, 'Wiehahn Gouws': 10, 'Cody Brasel': 9, 'Alessandro Galli': 9, 'Hakan Karabey': 9, 'Ricard Vilella IESE': 8, 'Andrea Biancardi': 8, 'Pranav IESE': 7, 'Andres Villanueva': 7, 'Diogo Borges De Andrade IESE': 6, 'Alan Luer IESE': 6, 'Alvaro Benito IESE': 5, 'Aparna Murali': 5, 'Krishna Chaitanya': 5, 'Aakanksha': 5, 'Marilyn Heymann': 5, 'Parth IESE': 5, 'Robin': 5, 'Ana Paula IESE': 5, 'Philip Pratte IESE': 4, 'Veronica Rodriguez': 4, 'Matthieu Haddad IESE': 4, 'Eugenia Delosrios IESE': 4, 'Natalia Krüger': 3, 'Marc IESE': 3, 'Jie Yang IESE': 3, 'Charlie Porter': 3, 'Sebastian Cyprus': 3, 'Michael Gross': 3, 'Luiza Cervetto': 3, 'Caio Tonon': 2, 'Dino IESE': 2, 'Eric Wong IESE': 2, 'Taebo Shim': 2, 'Juan Diego Mujica IESE': 2, 'Reyes DuPont IESE': 2, 'Slivia IESE': 2, 'Nesi Laros': 2, 'Ting Wei Huang IESE': 2, 'Valentina Posada': 2, '\\u202a+1\\xa0(514)\\xa0999‑4123\\u202c': 1, 'Hari Harsha': 1, 'Shelly IESE 🇨🇦': 1, 'Maria Carnal IESE': 1, 'Andres Pan De Soraluce': 1, 'Jan Warmus': 1, 'Harry HH IESE': 1, 'Carlos España': 1, 'Ásgeir IESE': 1, 'Nikita IESE': 1}), 'Caio Tonon': Counter({'Caio Tonon': 18, 'Jasson': 9, 'Dan Faermark': 9, 'Diogo Borges De Andrade IESE': 8, 'Maria Carnal IESE': 7, 'Claudia IESE 🇪🇸': 7, 'Parth IESE': 6, 'Matthieu Haddad IESE': 6, 'Eugenia Delosrios IESE': 5, 'Andy Klein Iese': 5, 'Harry HH IESE': 4, 'Jorge Arbolí': 4, 'Parsa Ghavimi': 4, 'Cody Brasel': 4, 'Nesi Laros': 4, 'Alvaro Benito IESE': 3, 'Jaime Llorente IESE': 3, 'Pia Fabbroni': 3, 'Wiehahn Gouws': 3, 'Aparna Murali': 2, 'Barbara Handam IESE': 2, 'Pranav IESE': 2, 'Jordan Altaras': 2, 'Disha IESE': 2, 'Jose IESE': 2, 'Natalia Krüger': 1, '\\u202a+34\\xa0687\\xa011\\xa041\\xa067\\u202c': 1, 'Yuka Ato IESE': 1, 'Andres Pan De Soraluce': 1, 'Marilyn Heymann': 1, 'Natalia Krüger IESE': 1, 'Slivia IESE': 1, 'Francisco Sá IESE': 1, 'Aakanksha': 1, 'Chris Coraggio IESE': 1, 'Lucas Afonso': 1}), 'Alvaro Benito IESE': Counter({'Alvaro Benito IESE': 45, 'Jasson': 17, 'Parsa Ghavimi': 16, 'Francisco Sá IESE': 15, 'Claudia IESE 🇪🇸': 13, 'Jose IESE': 12, 'Dan Faermark': 12, 'Gonzalo Diaz': 10, 'Chris Coraggio IESE': 10, 'Jorge Arbolí': 9, 'Pranav IESE': 9, 'Maria Carnal IESE': 8, 'Andy Klein Iese': 8, 'Barbara Handam IESE': 7, 'Andres Pan De Soraluce': 7, 'Lucas Afonso': 6, 'Charlie Porter': 6, 'Jordan Altaras': 6, '\\u202a+34\\xa0687\\xa011\\xa041\\xa067\\u202c': 5, 'Andrea Biancardi': 5, 'Jaime Llorente IESE': 5, 'Veronica Rodriguez': 5, 'Juana Toranzos': 5, 'Pia Fabbroni': 4, 'Aparna Murali': 4, 'Ricard Vilella IESE': 4, 'Thais Cirenza': 4, 'Marc IESE': 4, 'Alessandro Galli': 4, 'Dino IESE': 3, 'Aakanksha': 3, 'Disha IESE': 3, 'Ana Paula IESE': 3, 'Matthieu Haddad IESE': 3, 'Hakan Karabey': 3, 'Eugenia Delosrios IESE': 2, 'Caio Tonon': 2, 'Natalia Krüger': 2, 'Marilyn Heymann': 2, 'Roberto Siman': 2, 'Reyes DuPont IESE': 2, 'Philip Pratte IESE': 2, 'Jie Yang IESE': 2, 'Cody Brasel': 2, 'Parth IESE': 2, 'Por Boonyam': 2, 'Robin': 2, 'Diogo Borges De Andrade IESE': 2, 'Natalia Krüger IESE': 2, 'Julieta Lucci': 1, 'Michael Gross': 1, 'Shun Sekine IESE': 1, 'Slivia IESE': 1, 'Juan Diego Mujica IESE': 1, 'Wiehahn Gouws': 1, 'Sebastian Cyprus': 1, 'Luiza Cervetto': 1, 'Andres Villanueva': 1}), 'Maria Carnal IESE': Counter({'Pia Fabbroni': 17, 'Maria Carnal IESE': 16, 'Claudia IESE 🇪🇸': 10, 'Parsa Ghavimi': 8, 'Jasson': 8, 'Matthieu Haddad IESE': 7, 'Disha IESE': 7, 'Dan Faermark': 7, 'Alvaro Benito IESE': 6, 'Francisco Sá IESE': 6, 'Aparna Murali': 6, 'Gonzalo Diaz': 6, 'Jorge Arbolí': 6, 'Juana Toranzos': 5, 'Andy Klein Iese': 5, 'Cody Brasel': 5, 'Aakanksha': 4, 'Jaime Llorente IESE': 4, 'Chris Coraggio IESE': 4, 'Natalia Krüger IESE': 4, 'Diogo Borges De Andrade IESE': 3, 'Jordan Altaras': 3, 'Barbara Handam IESE': 3, 'Andres Villanueva': 3, '\\u202a+34\\xa0687\\xa011\\xa041\\xa067\\u202c': 2, 'Ásgeir IESE': 2, 'Jay Mohnot': 2, 'Jie Yang IESE': 2, 'Veronica Rodriguez': 2, 'Michael Gross': 2, 'Marilyn Heymann': 2, 'Valentina Posada': 2, 'Robin': 2, 'Pranav IESE': 2, 'Caio Tonon': 2, 'Eugenia Delosrios IESE': 2, 'Harry HH IESE': 2, 'Jose IESE': 2, 'Parth IESE': 2, '\\u202a+51\\xa0996\\xa0209\\xa0339\\u202c': 1, 'Lucas Afonso': 1, 'Julieta Lucci': 1, 'Andrea Biancardi': 1, 'Alan Luer IESE': 1, 'Eric Wong IESE': 1, 'Ana Paula IESE': 1, 'Marc IESE': 1, 'Roberto Siman': 1, 'Hari Harsha': 1, 'Ricard Vilella IESE': 1, 'Dino IESE': 1, 'Juan Diego Mujica IESE': 1, 'Thais Cirenza': 1, '\\u202a+62\\xa0813‑7368‑3039\\u202c': 1, 'Slivia IESE': 1, 'Peter Shim IESE': 1, 'Krishna Chaitanya': 1}), 'Gonzalo Diaz': Counter({'Gonzalo Diaz': 415, 'Claudia IESE 🇪🇸': 124, 'Jasson': 123, 'Dan Faermark': 96, 'Chris Coraggio IESE': 91, 'Pia Fabbroni': 85, 'Francisco Sá IESE': 81, 'Parsa Ghavimi': 66, 'Jorge Arbolí': 59, 'Jordan Altaras': 58, 'Andy Klein Iese': 57, 'Barbara Handam IESE': 47, 'Juana Toranzos': 40, 'Jose IESE': 39, 'Roberto Siman': 38, 'Michael Gross': 35, 'Pranav IESE': 30, 'Lucas Afonso': 28, 'Natalia Krüger IESE': 27, 'Matthieu Haddad IESE': 25, 'Thais Cirenza': 25, 'Cody Brasel': 24, 'Veronica Rodriguez': 23, 'Julieta Lucci': 22, 'Eugenia Delosrios IESE': 22, 'Marc IESE': 20, 'Ricard Vilella IESE': 20, 'Hakan Karabey': 20, 'Harry HH IESE': 18, 'Aakanksha': 17, 'Andrea Biancardi': 16, 'Disha IESE': 16, 'Parth IESE': 13, 'Ana Paula IESE': 12, 'Wiehahn Gouws': 12, 'Alessandro Galli': 12, 'Charlie Porter': 12, 'Robin': 12, 'Sebastian Cyprus': 12, 'Maria Carnal IESE': 12, 'Luiza Cervetto': 12, 'Dino IESE': 11, 'Reyes DuPont IESE': 11, 'Aparna Murali': 11, 'Marilyn Heymann': 10, 'Jaime Llorente IESE': 10, 'Krishna Chaitanya': 10, 'Andres Pan De Soraluce': 9, 'Taebo Shim': 8, 'Diogo Borges De Andrade IESE': 8, 'Alvaro Benito IESE': 7, 'Andres Villanueva': 7, 'Jay Mohnot': 6, 'Natalia Krüger': 5, 'Eric Wong IESE': 5, 'Hari Harsha': 5, 'Shelly IESE 🇨🇦': 4, 'Juan Diego Mujica IESE': 4, 'Ásgeir IESE': 4, 'Philip Pratte IESE': 3, 'Carlos España': 3, 'Caio Tonon': 2, 'Tote Picañol': 2, 'Alan Luer IESE': 2, 'Ting Wei Huang IESE': 1, 'Slivia IESE': 1, 'Jie Yang IESE': 1, 'Valentina Posada': 1, '\\u202a+56\\xa09\\xa07543\\xa07459\\u202c': 1, 'Por Boonyam': 1}), 'Andrea Biancardi': Counter({'Andrea Biancardi': 30, 'Francisco Sá IESE': 18, 'Jasson': 17, 'Claudia IESE 🇪🇸': 15, 'Pia Fabbroni': 14, 'Parsa Ghavimi': 14, 'Lucas Afonso': 12, 'Juana Toranzos': 11, 'Roberto Siman': 11, 'Pranav IESE': 11, 'Gonzalo Diaz': 9, 'Barbara Handam IESE': 9, 'Andy Klein Iese': 9, 'Thais Cirenza': 7, 'Veronica Rodriguez': 7, 'Chris Coraggio IESE': 7, 'Dan Faermark': 6, 'Jorge Arbolí': 6, 'Jose IESE': 6, 'Aakanksha': 6, 'Andres Villanueva': 6, 'Parth IESE': 5, 'Matthieu Haddad IESE': 5, 'Wiehahn Gouws': 4, 'Aparna Murali': 4, 'Julieta Lucci': 4, 'Robin': 4, 'Ana Paula IESE': 4, 'Natalia Krüger IESE': 4, 'Eric Wong IESE': 4, 'Sebastian Cyprus': 4, 'Ricard Vilella IESE': 4, 'Cody Brasel': 3, 'Marc IESE': 3, 'Jordan Altaras': 3, 'Juan Diego Mujica IESE': 3, 'Nesi Laros': 3, 'Slivia IESE': 3, '\\u202a+51\\xa0996\\xa0209\\xa0339\\u202c': 2, 'Jay Mohnot': 2, 'Reyes DuPont IESE': 2, 'Dino IESE': 2, 'Alvaro Benito IESE': 2, 'Andres Pan De Soraluce': 2, 'Eugenia Delosrios IESE': 2, 'Luiza Cervetto': 2, 'Jan Warmus': 2, 'Disha IESE': 2, 'Taebo Shim': 1, 'Maria Carnal IESE': 1, 'Marilyn Heymann': 1, 'Philip Pratte IESE': 1, 'Jie Yang IESE': 1, 'Michael Gross': 1, 'Alessandro Galli': 1, 'Charlie Porter': 1, 'Hakan Karabey': 1, 'Harry HH IESE': 1, 'Diogo Borges De Andrade IESE': 1, 'Ásgeir IESE': 1, 'Jaime Llorente IESE': 1}), '\\u202a+51\\xa0996\\xa0209\\xa0339\\u202c': Counter({'Andrea Biancardi': 1, 'Jasson': 1, 'Maria Carnal IESE': 1, '\\u202a+51\\xa0996\\xa0209\\xa0339\\u202c': 1, 'Alan Luer IESE': 1, 'Roberto Siman': 1}), 'Nesi Laros': Counter({'Juana Toranzos': 4, 'Chris Coraggio IESE': 4, 'Dan Faermark': 4, 'Barbara Handam IESE': 4, 'Claudia IESE 🇪🇸': 4, 'Matthieu Haddad IESE': 4, 'Jasson': 4, 'Nesi Laros': 3, 'Jose IESE': 2, 'Natalia Krüger IESE': 2, 'Alessandro Galli': 2, 'Andrea Biancardi': 1, 'Andy Klein Iese': 1, 'Jorge Arbolí': 1, 'Pia Fabbroni': 1, 'Marilyn Heymann': 1, 'Andres Pan De Soraluce': 1, 'Roberto Siman': 1, 'Shelly IESE 🇨🇦': 1, 'Jordan Altaras': 1, 'Gonzalo Diaz': 1, 'Caio Tonon': 1, 'Parth IESE': 1, 'Diogo Borges De Andrade IESE': 1, 'Veronica Rodriguez': 1, 'Ricard Vilella IESE': 1, 'Parsa Ghavimi': 1, 'Thais Cirenza': 1, 'Marc IESE': 1, 'Harry HH IESE': 1, 'Lucas Afonso': 1, 'Hari Harsha': 1, 'Nikita IESE': 1}), 'Parth IESE': Counter({'Parth IESE': 30, 'Chris Coraggio IESE': 16, 'Jasson': 15, 'Francisco Sá IESE': 14, 'Claudia IESE 🇪🇸': 13, 'Gonzalo Diaz': 11, 'Disha IESE': 10, 'Pia Fabbroni': 10, 'Dan Faermark': 10, 'Juana Toranzos': 9, 'Pranav IESE': 9, 'Jordan Altaras': 9, 'Andy Klein Iese': 9, 'Luiza Cervetto': 8, 'Roberto Siman': 7, 'Marc IESE': 6, 'Natalia Krüger IESE': 6, 'Jorge Arbolí': 6, 'Harry HH IESE': 6, 'Parsa Ghavimi': 5, 'Jay Mohnot': 5, 'Aakanksha': 5, 'Michael Gross': 4, 'Aparna Murali': 4, 'Alvaro Benito IESE': 4, 'Jose IESE': 4, 'Thais Cirenza': 4, 'Hakan Karabey': 4, 'Robin': 4, 'Barbara Handam IESE': 3, 'Veronica Rodriguez': 3, 'Reyes DuPont IESE': 3, 'Philip Pratte IESE': 3, 'Wiehahn Gouws': 3, 'Matthieu Haddad IESE': 2, 'Andrea Biancardi': 2, 'Eugenia Delosrios IESE': 2, 'Marilyn Heymann': 2, 'Jaime Llorente IESE': 2, 'Caio Tonon': 2, 'Eric Wong IESE': 2, 'Peter Shim IESE': 2, '\\u202a+55\\xa021\\xa098712‑5391\\u202c': 1, 'Lucas Afonso': 1, 'Andres Pan De Soraluce': 1, 'Yuka Ato IESE': 1, 'Krishna Chaitanya': 1, 'Taebo Shim': 1, 'Juan Diego Mujica IESE': 1, 'Slivia IESE': 1, 'Maria Carnal IESE': 1, 'Cody Brasel': 1, 'Diogo Borges De Andrade IESE': 1, 'Julieta Lucci': 1, 'Dino IESE': 1, 'Ana Paula IESE': 1, 'Nesi Laros': 1, 'Sebastian Cyprus': 1, 'Alan Luer IESE': 1, 'Valentina Posada': 1}), 'Alessandro Galli': Counter({'Alessandro Galli': 93, 'Claudia IESE 🇪🇸': 39, 'Jasson': 22, 'Chris Coraggio IESE': 21, 'Francisco Sá IESE': 20, 'Jorge Arbolí': 17, 'Gonzalo Diaz': 17, 'Harry HH IESE': 16, 'Juana Toranzos': 13, 'Dan Faermark': 13, 'Jordan Altaras': 12, 'Roberto Siman': 11, 'Lucas Afonso': 10, 'Parsa Ghavimi': 10, 'Andy Klein Iese': 9, 'Jose IESE': 9, 'Hakan Karabey': 9, 'Barbara Handam IESE': 8, 'Thais Cirenza': 8, 'Aparna Murali': 5, 'Alvaro Benito IESE': 5, 'Reyes DuPont IESE': 5, 'Marc IESE': 5, 'Natalia Krüger IESE': 5, 'Pia Fabbroni': 5, 'Disha IESE': 5, 'Luiza Cervetto': 5, 'Matthieu Haddad IESE': 5, 'Marilyn Heymann': 4, 'Andres Pan De Soraluce': 4, 'Jaime Llorente IESE': 4, 'Julieta Lucci': 3, 'Ricard Vilella IESE': 3, 'Charlie Porter': 2, 'Michael Gross': 2, 'Andrea Biancardi': 2, 'Parth IESE': 2, 'Shelly IESE 🇨🇦': 2, 'Pranav IESE': 2, 'Jie Yang IESE': 1, '\\u202a+51\\xa0973\\xa0833\\xa0697\\u202c': 1, 'Natalia Krüger': 1, 'Alan Luer IESE': 1, 'Wiehahn Gouws': 1, 'Ana Paula IESE': 1, 'Tote Picañol': 1, 'Ásgeir IESE': 1, 'Veronica Rodriguez': 1, 'Dino IESE': 1, 'Maria Carnal IESE': 1, 'Cody Brasel': 1, 'Eugenia Delosrios IESE': 1, 'Aakanksha': 1, 'Krishna Chaitanya': 1, '\\u202a+56\\xa09\\xa07543\\xa07459\\u202c': 1}), 'Jose IESE': Counter({'Jose IESE': 96, 'Francisco Sá IESE': 48, 'Chris Coraggio IESE': 37, 'Pia Fabbroni': 32, 'Claudia IESE 🇪🇸': 29, 'Gonzalo Diaz': 27, 'Dan Faermark': 24, 'Juana Toranzos': 22, 'Roberto Siman': 21, 'Jasson': 21, 'Jordan Altaras': 20, 'Andy Klein Iese': 17, 'Barbara Handam IESE': 16, 'Parsa Ghavimi': 16, 'Jorge Arbolí': 15, 'Lucas Afonso': 15, 'Aparna Murali': 13, 'Natalia Krüger IESE': 13, 'Julieta Lucci': 12, 'Matthieu Haddad IESE': 11, 'Disha IESE': 11, 'Harry HH IESE': 11, 'Alessandro Galli': 10, 'Cody Brasel': 9, 'Ricard Vilella IESE': 9, 'Hakan Karabey': 9, 'Veronica Rodriguez': 8, 'Jaime Llorente IESE': 8, 'Pranav IESE': 7, 'Parth IESE': 7, 'Andrea Biancardi': 6, 'Jay Mohnot': 6, 'Robin': 6, 'Krishna Chaitanya': 5, 'Eugenia Delosrios IESE': 5, 'Thais Cirenza': 5, 'Eric Wong IESE': 5, 'Marilyn Heymann': 4, 'Andres Pan De Soraluce': 4, 'Maria Carnal IESE': 4, 'Alvaro Benito IESE': 4, 'Luiza Cervetto': 3, 'Juan Diego Mujica IESE': 3, 'Caio Tonon': 3, 'Diogo Borges De Andrade IESE': 3, 'Wiehahn Gouws': 3, 'Shelly IESE 🇨🇦': 2, 'Marc IESE': 2, 'Michael Gross': 2, 'Charlie Porter': 2, 'Valentina Posada': 2, 'Ana Paula IESE': 2, 'Natalia Krüger': 1, 'Nesi Laros': 1, 'Andres Villanueva': 1, 'Aakanksha': 1, 'Carlos España': 1, 'Ásgeir IESE': 1, 'Por Boonyam': 1, 'Tote Picañol': 1, 'Nikita IESE': 1, 'Hari Harsha': 1}), 'Claudia IESE 🇪🇸': Counter({'Claudia IESE 🇪🇸': 690, 'Jasson': 180, 'Dan Faermark': 152, 'Gonzalo Diaz': 142, 'Chris Coraggio IESE': 136, 'Pia Fabbroni': 111, 'Francisco Sá IESE': 93, 'Barbara Handam IESE': 63, 'Jorge Arbolí': 57, 'Andy Klein Iese': 51, 'Juana Toranzos': 49, 'Jaime Llorente IESE': 47, 'Roberto Siman': 45, 'Disha IESE': 45, 'Matthieu Haddad IESE': 43, 'Jordan Altaras': 43, 'Parsa Ghavimi': 43, 'Veronica Rodriguez': 42, 'Lucas Afonso': 41, 'Harry HH IESE': 41, 'Diogo Borges De Andrade IESE': 40, 'Andres Pan De Soraluce': 37, 'Alessandro Galli': 35, 'Pranav IESE': 33, 'Aakanksha': 32, 'Jose IESE': 31, 'Eugenia Delosrios IESE': 27, 'Wiehahn Gouws': 27, 'Thais Cirenza': 26, 'Michael Gross': 26, 'Julieta Lucci': 26, 'Marilyn Heymann': 25, 'Ana Paula IESE': 23, 'Natalia Krüger IESE': 23, 'Maria Carnal IESE': 22, 'Parth IESE': 22, 'Hakan Karabey': 22, 'Caio Tonon': 21, 'Aparna Murali': 21, 'Cody Brasel': 20, 'Eric Wong IESE': 20, 'Sebastian Cyprus': 20, 'Charlie Porter': 18, 'Ricard Vilella IESE': 17, 'Reyes DuPont IESE': 16, 'Andrea Biancardi': 16, 'Robin': 15, 'Dino IESE': 14, 'Alan Luer IESE': 13, 'Marc IESE': 13, 'Krishna Chaitanya': 11, 'Andres Villanueva': 11, 'Nesi Laros': 10, 'Hari Harsha': 7, 'Taebo Shim': 6, 'Luiza Cervetto': 5, 'Jay Mohnot': 5, 'Shelly IESE 🇨🇦': 4, 'Juan Diego Mujica IESE': 4, 'Slivia IESE': 3, 'Alvaro Benito IESE': 3, 'Natalia Krüger': 2, 'Carlos España': 2, 'Ting Wei Huang IESE': 2, 'Philip Pratte IESE': 2, 'Ásgeir IESE': 2, 'Jan Warmus': 2, 'Valentina Posada': 2, '\\u202a+1\\xa0(514)\\xa0999‑4123\\u202c': 1, '\\u202a+51\\xa0996\\xa0209\\xa0339\\u202c': 1, '\\u202a+56\\xa09\\xa09021\\xa00217\\u202c': 1, 'Tote Picañol': 1, 'Nikita IESE': 1, 'Jie Yang IESE': 1, 'Shun Sekine IESE': 1}), 'Charlie Porter': Counter({'Gonzalo Diaz': 14, 'Francisco Sá IESE': 13, 'Juana Toranzos': 12, 'Chris Coraggio IESE': 12, 'Dan Faermark': 11, 'Pia Fabbroni': 11, 'Claudia IESE 🇪🇸': 11, 'Cody Brasel': 10, 'Barbara Handam IESE': 10, 'Charlie Porter': 10, 'Roberto Siman': 8, 'Jasson': 8, 'Aakanksha': 7, 'Parsa Ghavimi': 7, 'Lucas Afonso': 7, 'Julieta Lucci': 7, 'Veronica Rodriguez': 6, 'Jorge Arbolí': 6, 'Matthieu Haddad IESE': 6, 'Andrea Biancardi': 5, 'Jordan Altaras': 5, 'Ricard Vilella IESE': 5, 'Pranav IESE': 4, 'Andy Klein Iese': 4, 'Reyes DuPont IESE': 4, 'Jaime Llorente IESE': 3, 'Ásgeir IESE': 3, 'Disha IESE': 3, 'Diogo Borges De Andrade IESE': 3, 'Jose IESE': 3, 'Eugenia Delosrios IESE': 2, 'Marc IESE': 2, 'Luiza Cervetto': 2, 'Dino IESE': 2, 'Eric Wong IESE': 2, 'Harry HH IESE': 2, 'Thais Cirenza': 2, 'Alessandro Galli': 2, 'Jay Mohnot': 2, 'Robin': 2, 'Natalia Krüger IESE': 2, 'Krishna Chaitanya': 1, 'Philip Pratte IESE': 1, 'Ting Wei Huang IESE': 1, 'Andres Villanueva': 1, 'Taebo Shim': 1, 'Alan Luer IESE': 1, 'Shelly IESE 🇨🇦': 1, 'Andres Pan De Soraluce': 1, 'Ana Paula IESE': 1, 'Wiehahn Gouws': 1, 'Jan Warmus': 1, 'Alvaro Benito IESE': 1, 'Nikita IESE': 1, 'Marilyn Heymann': 1, 'Aparna Murali': 1, 'Hakan Karabey': 1}), 'Thais Cirenza': Counter({'Thais Cirenza': 92, 'Francisco Sá IESE': 42, 'Jasson': 41, 'Chris Coraggio IESE': 36, 'Gonzalo Diaz': 31, 'Pia Fabbroni': 27, 'Barbara Handam IESE': 25, 'Andy Klein Iese': 25, 'Juana Toranzos': 22, 'Claudia IESE 🇪🇸': 22, 'Parsa Ghavimi': 22, 'Roberto Siman': 21, 'Natalia Krüger IESE': 17, 'Dan Faermark': 16, 'Lucas Afonso': 16, 'Julieta Lucci': 15, 'Andrea Biancardi': 13, 'Parth IESE': 12, 'Matthieu Haddad IESE': 10, 'Disha IESE': 9, 'Alessandro Galli': 9, 'Dino IESE': 7, 'Ana Paula IESE': 7, 'Charlie Porter': 7, 'Wiehahn Gouws': 6, 'Marc IESE': 6, 'Eric Wong IESE': 6, 'Aparna Murali': 6, 'Cody Brasel': 5, 'Veronica Rodriguez': 5, 'Michael Gross': 5, 'Aakanksha': 5, 'Jorge Arbolí': 5, 'Andres Villanueva': 5, 'Alvaro Benito IESE': 4, 'Hakan Karabey': 4, 'Jose IESE': 4, 'Jordan Altaras': 4, 'Slivia IESE': 4, 'Diogo Borges De Andrade IESE': 4, 'Harry HH IESE': 4, 'Nesi Laros': 4, 'Marilyn Heymann': 4, 'Reyes DuPont IESE': 3, 'Jay Mohnot': 3, 'Nikita IESE': 3, 'Andres Pan De Soraluce': 3, 'Luiza Cervetto': 3, 'Jan Warmus': 3, 'Jaime Llorente IESE': 3, 'Sebastian Cyprus': 3, 'Maria Carnal IESE': 2, '\\u202a+56\\xa09\\xa09021\\xa00217\\u202c': 1, 'Tote Picañol': 1, 'Carlos España': 1, 'Valentina Posada': 1, 'Shelly IESE 🇨🇦': 1, 'Taebo Shim': 1, 'Alan Luer IESE': 1, 'Ricard Vilella IESE': 1, 'Ásgeir IESE': 1, 'Eugenia Delosrios IESE': 1, 'Pranav IESE': 1}), '\\u202a+65\\xa09730\\xa01447\\u202c': Counter({'Chris Coraggio IESE': 1, '\\u202a+65\\xa09730\\xa01447\\u202c': 1}), '\\u202a+56\\xa09\\xa09021\\xa00217\\u202c': Counter({'Marilyn Heymann': 1, 'Andy Klein Iese': 1, 'Pia Fabbroni': 1, 'Parsa Ghavimi': 1, 'Thais Cirenza': 1, 'Gonzalo Diaz': 1, 'Claudia IESE 🇪🇸': 1, 'Jordan Altaras': 1, 'Julieta Lucci': 1, 'Francisco Sá IESE': 1, 'Eric Wong IESE': 1, 'Jasson': 1, 'Chris Coraggio IESE': 1, 'Wiehahn Gouws': 1}), 'Aakanksha': Counter({'Aakanksha': 123, 'Chris Coraggio IESE': 36, 'Claudia IESE 🇪🇸': 35, 'Jasson': 33, 'Julieta Lucci': 32, 'Francisco Sá IESE': 29, 'Barbara Handam IESE': 24, 'Andy Klein Iese': 23, 'Gonzalo Diaz': 18, 'Wiehahn Gouws': 16, 'Lucas Afonso': 13, 'Juana Toranzos': 12, 'Dan Faermark': 12, 'Jorge Arbolí': 10, 'Cody Brasel': 9, 'Marc IESE': 9, 'Pranav IESE': 9, 'Jordan Altaras': 9, 'Diogo Borges De Andrade IESE': 9, 'Charlie Porter': 8, 'Pia Fabbroni': 8, 'Harry HH IESE': 8, 'Parsa Ghavimi': 7, 'Dino IESE': 7, 'Aparna Murali': 6, 'Andrea Biancardi': 6, 'Taebo Shim': 6, 'Roberto Siman': 5, 'Matthieu Haddad IESE': 5, 'Nikita IESE': 4, 'Thais Cirenza': 4, 'Natalia Krüger IESE': 4, 'Jose IESE': 4, 'Michael Gross': 4, 'Tote Picañol': 4, 'Veronica Rodriguez': 4, 'Hakan Karabey': 4, 'Alessandro Galli': 4, 'Eric Wong IESE': 4, 'Jaime Llorente IESE': 3, 'Maria Carnal IESE': 3, 'Yuka Ato IESE': 2, 'Reyes DuPont IESE': 2, 'Natalia Krüger': 2, 'Ting Wei Huang IESE': 2, 'Disha IESE': 2, 'Alvaro Benito IESE': 2, 'Andres Pan De Soraluce': 2, 'Luiza Cervetto': 2, 'Hari Harsha': 1, 'Ricard Vilella IESE': 1, 'Jay Mohnot': 1, 'Krishna Chaitanya': 1, 'Nesi Laros': 1}), 'Andy Klein Iese': Counter({'Andy Klein Iese': 209, 'Chris Coraggio IESE': 98, 'Francisco Sá IESE': 73, 'Jasson': 64, 'Claudia IESE 🇪🇸': 57, 'Gonzalo Diaz': 55, 'Dan Faermark': 51, 'Parsa Ghavimi': 51, 'Jorge Arbolí': 50, 'Pia Fabbroni': 47, 'Juana Toranzos': 46, 'Barbara Handam IESE': 37, 'Roberto Siman': 30, 'Julieta Lucci': 29, 'Lucas Afonso': 29, 'Jordan Altaras': 28, 'Thais Cirenza': 26, 'Aparna Murali': 20, 'Cody Brasel': 18, 'Harry HH IESE': 18, 'Aakanksha': 17, 'Pranav IESE': 17, 'Luiza Cervetto': 16, 'Hakan Karabey': 15, 'Alessandro Galli': 15, 'Matthieu Haddad IESE': 14, 'Disha IESE': 14, 'Jaime Llorente IESE': 13, 'Parth IESE': 13, 'Ricard Vilella IESE': 13, 'Michael Gross': 12, 'Andres Villanueva': 12, 'Jose IESE': 11, 'Veronica Rodriguez': 11, 'Dino IESE': 11, 'Marc IESE': 10, 'Diogo Borges De Andrade IESE': 10, 'Wiehahn Gouws': 9, 'Andrea Biancardi': 9, 'Robin': 9, 'Ana Paula IESE': 8, 'Natalia Krüger IESE': 7, 'Eric Wong IESE': 7, 'Jay Mohnot': 7, 'Charlie Porter': 6, 'Tote Picañol': 6, 'Sebastian Cyprus': 6, 'Eugenia Delosrios IESE': 6, 'Krishna Chaitanya': 5, 'Alvaro Benito IESE': 4, 'Hari Harsha': 4, 'Marilyn Heymann': 4, 'Andres Pan De Soraluce': 4, 'Reyes DuPont IESE': 3, 'Philip Pratte IESE': 3, 'Ásgeir IESE': 3, 'Caio Tonon': 3, 'Maria Carnal IESE': 3, 'Shelly IESE 🇨🇦': 2, 'Alan Luer IESE': 2, 'Natalia Krüger': 1, '\\u202a+56\\xa09\\xa09021\\xa00217\\u202c': 1, 'Carlos España': 1}), 'Jordan Altaras': Counter({'Jordan Altaras': 223, 'Chris Coraggio IESE': 63, 'Gonzalo Diaz': 48, 'Jasson': 43, 'Francisco Sá IESE': 41, 'Andy Klein Iese': 40, 'Claudia IESE 🇪🇸': 39, 'Pia Fabbroni': 38, 'Dan Faermark': 30, 'Jorge Arbolí': 27, 'Parsa Ghavimi': 25, 'Jose IESE': 22, 'Cody Brasel': 18, 'Pranav IESE': 17, 'Natalia Krüger IESE': 17, 'Juana Toranzos': 15, 'Harry HH IESE': 15, 'Barbara Handam IESE': 14, 'Roberto Siman': 13, 'Eric Wong IESE': 12, 'Marilyn Heymann': 12, 'Diogo Borges De Andrade IESE': 11, 'Dino IESE': 11, 'Michael Gross': 11, 'Disha IESE': 11, 'Robin': 11, 'Julieta Lucci': 10, 'Matthieu Haddad IESE': 9, 'Aakanksha': 8, 'Jaime Llorente IESE': 8, 'Parth IESE': 8, 'Veronica Rodriguez': 7, 'Aparna Murali': 7, 'Lucas Afonso': 6, 'Andres Pan De Soraluce': 6, 'Alvaro Benito IESE': 6, 'Thais Cirenza': 6, 'Ana Paula IESE': 5, 'Marc IESE': 5, 'Alessandro Galli': 5, 'Andrea Biancardi': 5, 'Ricard Vilella IESE': 5, 'Krishna Chaitanya': 5, 'Eugenia Delosrios IESE': 4, 'Slivia IESE': 4, 'Reyes DuPont IESE': 4, 'Charlie Porter': 4, 'Luiza Cervetto': 3, 'Alan Luer IESE': 3, 'Andres Villanueva': 3, 'Wiehahn Gouws': 3, 'Hakan Karabey': 3, 'Maria Carnal IESE': 2, 'Jay Mohnot': 2, 'Shun Sekine IESE': 2, 'Ásgeir IESE': 2, 'Hari Harsha': 2, 'Nesi Laros': 1, '\\u202a+56\\xa09\\xa09021\\xa00217\\u202c': 1, 'Valentina Posada': 1, 'Philip Pratte IESE': 1, 'Tote Picañol': 1, 'Sebastian Cyprus': 1, 'Caio Tonon': 1, 'Nikita IESE': 1, 'Juan Diego Mujica IESE': 1}), 'Eric Wong IESE': Counter({'Eric Wong IESE': 35, 'Claudia IESE 🇪🇸': 32, 'Chris Coraggio IESE': 14, 'Jasson': 12, 'Jorge Arbolí': 11, 'Dan Faermark': 10, 'Disha IESE': 9, 'Parsa Ghavimi': 8, 'Francisco Sá IESE': 8, 'Pranav IESE': 8, 'Pia Fabbroni': 7, 'Andres Villanueva': 6, 'Jaime Llorente IESE': 6, 'Veronica Rodriguez': 5, 'Lucas Afonso': 5, 'Wiehahn Gouws': 5, 'Marilyn Heymann': 5, 'Jose IESE': 5, 'Barbara Handam IESE': 5, 'Roberto Siman': 5, 'Gonzalo Diaz': 5, 'Andy Klein Iese': 4, 'Michael Gross': 3, 'Parth IESE': 3, 'Andres Pan De Soraluce': 3, 'Julieta Lucci': 3, 'Ting Wei Huang IESE': 3, 'Natalia Krüger IESE': 3, 'Robin': 3, 'Juan Diego Mujica IESE': 3, 'Cody Brasel': 3, 'Jordan Altaras': 3, 'Matthieu Haddad IESE': 3, 'Ana Paula IESE': 3, 'Eugenia Delosrios IESE': 3, 'Andrea Biancardi': 3, 'Slivia IESE': 2, 'Ásgeir IESE': 2, 'Jie Yang IESE': 2, 'Shelly IESE 🇨🇦': 2, 'Charlie Porter': 2, 'Jay Mohnot': 2, 'Diogo Borges De Andrade IESE': 2, 'Nesi Laros': 2, 'Taebo Shim': 2, 'Alan Luer IESE': 2, 'Juana Toranzos': 2, 'Krishna Chaitanya': 2, '\\u202a+55\\xa021\\xa098712‑5391\\u202c': 1, '\\u202a+34\\xa0687\\xa011\\xa041\\xa067\\u202c': 1, 'Tote Picañol': 1, 'Philip Pratte IESE': 1, 'Aparna Murali': 1, 'Reyes DuPont IESE': 1, 'Caio Tonon': 1, 'Marc IESE': 1, 'Harry HH IESE': 1, 'Ricard Vilella IESE': 1, 'Thais Cirenza': 1, 'Luiza Cervetto': 1, 'Sebastian Cyprus': 1, 'Alvaro Benito IESE': 1, 'Hakan Karabey': 1}), 'Veronica Rodriguez': Counter({'Veronica Rodriguez': 48, 'Claudia IESE 🇪🇸': 30, 'Pia Fabbroni': 28, 'Jasson': 27, 'Parsa Ghavimi': 24, 'Chris Coraggio IESE': 24, 'Gonzalo Diaz': 24, 'Barbara Handam IESE': 19, 'Dan Faermark': 15, 'Francisco Sá IESE': 15, 'Pranav IESE': 13, 'Juana Toranzos': 13, 'Roberto Siman': 12, 'Jordan Altaras': 10, 'Andres Pan De Soraluce': 10, 'Robin': 9, 'Matthieu Haddad IESE': 9, 'Ana Paula IESE': 8, 'Andy Klein Iese': 7, 'Jorge Arbolí': 7, 'Taebo Shim': 7, 'Jose IESE': 7, 'Sebastian Cyprus': 7, 'Cody Brasel': 6, 'Aparna Murali': 6, 'Thais Cirenza': 6, 'Natalia Krüger IESE': 6, 'Michael Gross': 6, 'Disha IESE': 6, 'Julieta Lucci': 5, 'Aakanksha': 5, 'Lucas Afonso': 5, 'Shelly IESE 🇨🇦': 5, 'Andrea Biancardi': 5, 'Dino IESE': 4, 'Hakan Karabey': 4, 'Eugenia Delosrios IESE': 4, 'Krishna Chaitanya': 4, 'Slivia IESE': 4, 'Wiehahn Gouws': 4, 'Ricard Vilella IESE': 4, 'Marilyn Heymann': 3, 'Valentina Posada': 3, 'Jaime Llorente IESE': 3, 'Eric Wong IESE': 3, 'Diogo Borges De Andrade IESE': 3, 'Luiza Cervetto': 3, 'Alan Luer IESE': 2, 'Harry HH IESE': 2, 'Alessandro Galli': 2, 'Jie Yang IESE': 2, 'Marc IESE': 2, 'Parth IESE': 2, 'Reyes DuPont IESE': 1, 'Nesi Laros': 1, 'Alvaro Benito IESE': 1, 'Caio Tonon': 1, 'Maria Carnal IESE': 1, 'Charlie Porter': 1, 'Nikita IESE': 1, 'Andres Villanueva': 1, 'Shun Sekine IESE': 1, 'Jay Mohnot': 1}), 'Jaime Llorente IESE': Counter({'Jaime Llorente IESE': 47, 'Claudia IESE 🇪🇸': 37, 'Jasson': 29, 'Dan Faermark': 26, 'Francisco Sá IESE': 23, 'Chris Coraggio IESE': 23, 'Gonzalo Diaz': 21, 'Parsa Ghavimi': 21, 'Jorge Arbolí': 20, 'Pia Fabbroni': 17, 'Andy Klein Iese': 17, 'Barbara Handam IESE': 14, 'Andres Pan De Soraluce': 13, 'Jordan Altaras': 11, 'Juana Toranzos': 10, 'Charlie Porter': 10, 'Hakan Karabey': 9, 'Pranav IESE': 8, 'Disha IESE': 8, 'Aparna Murali': 8, 'Julieta Lucci': 7, 'Jose IESE': 7, 'Roberto Siman': 7, 'Wiehahn Gouws': 6, 'Dino IESE': 6, 'Ana Paula IESE': 6, 'Diogo Borges De Andrade IESE': 6, 'Aakanksha': 5, 'Lucas Afonso': 5, 'Maria Carnal IESE': 5, 'Luiza Cervetto': 5, 'Veronica Rodriguez': 5, 'Eric Wong IESE': 5, 'Natalia Krüger IESE': 4, 'Alvaro Benito IESE': 4, 'Marilyn Heymann': 4, 'Parth IESE': 4, 'Marc IESE': 4, 'Alan Luer IESE': 4, 'Sebastian Cyprus': 4, 'Andres Villanueva': 4, 'Shelly IESE 🇨🇦': 4, 'Andrea Biancardi': 4, 'Krishna Chaitanya': 3, 'Cody Brasel': 3, 'Michael Gross': 3, 'Reyes DuPont IESE': 3, 'Matthieu Haddad IESE': 3, 'Harry HH IESE': 3, 'Jie Yang IESE': 2, 'Juan Diego Mujica IESE': 2, 'Valentina Posada': 2, 'Ásgeir IESE': 2, 'Alessandro Galli': 2, 'Slivia IESE': 2, 'Ricard Vilella IESE': 2, 'Tote Picañol': 2, 'Eugenia Delosrios IESE': 2, 'Philip Pratte IESE': 1, 'Natalia Krüger': 1, 'Nesi Laros': 1, 'Caio Tonon': 1, 'Robin': 1, 'Thais Cirenza': 1, 'Jay Mohnot': 1}), '\\u202a+55\\xa021\\xa098712‑5391\\u202c': Counter({'Jasson': 3, 'Jaime Llorente IESE': 2, 'Parsa Ghavimi': 1, 'Michael Gross': 1, 'Juana Toranzos': 1, 'Cody Brasel': 1, '\\u202a+55\\xa021\\xa098712‑5391\\u202c': 1, 'Lucas Afonso': 1, 'Dino IESE': 1, 'Matthieu Haddad IESE': 1}), 'Michael Gross': Counter({'Jasson': 23, 'Claudia IESE 🇪🇸': 18, 'Michael Gross': 17, 'Chris Coraggio IESE': 16, 'Gonzalo Diaz': 16, 'Andy Klein Iese': 15, 'Parsa Ghavimi': 12, 'Francisco Sá IESE': 12, 'Pia Fabbroni': 12, 'Jordan Altaras': 11, 'Juana Toranzos': 9, 'Jorge Arbolí': 9, 'Dan Faermark': 8, 'Hakan Karabey': 7, 'Pranav IESE': 6, 'Aakanksha': 6, 'Barbara Handam IESE': 6, 'Jose IESE': 6, 'Lucas Afonso': 5, 'Matthieu Haddad IESE': 5, 'Veronica Rodriguez': 5, 'Robin': 5, 'Roberto Siman': 4, 'Wiehahn Gouws': 4, 'Thais Cirenza': 4, 'Luiza Cervetto': 3, 'Andres Pan De Soraluce': 3, 'Parth IESE': 3, 'Diogo Borges De Andrade IESE': 3, 'Jaime Llorente IESE': 3, 'Cody Brasel': 3, 'Eric Wong IESE': 3, 'Disha IESE': 3, 'Aparna Murali': 3, 'Harry HH IESE': 3, 'Natalia Krüger': 2, 'Ana Paula IESE': 2, 'Marilyn Heymann': 2, 'Alessandro Galli': 2, 'Julieta Lucci': 2, 'Sebastian Cyprus': 2, 'Jay Mohnot': 2, 'Andrea Biancardi': 1, 'Alvaro Benito IESE': 1, 'Andres Villanueva': 1, 'Alan Luer IESE': 1, 'Shelly IESE 🇨🇦': 1, 'Krishna Chaitanya': 1, 'Juan Diego Mujica IESE': 1, 'Ásgeir IESE': 1, 'Ricard Vilella IESE': 1, 'Dino IESE': 1, 'Philip Pratte IESE': 1, 'Carlos España': 1, 'Natalia Krüger IESE': 1, 'Nikita IESE': 1}), 'Hari Harsha': Counter({'Hari Harsha': 6, 'Francisco Sá IESE': 5, 'Chris Coraggio IESE': 5, 'Barbara Handam IESE': 5, 'Jasson': 5, 'Andy Klein Iese': 4, 'Parsa Ghavimi': 4, 'Dan Faermark': 4, 'Lucas Afonso': 3, 'Jorge Arbolí': 3, 'Pia Fabbroni': 3, 'Roberto Siman': 3, 'Krishna Chaitanya': 2, 'Natalia Krüger IESE': 2, 'Wiehahn Gouws': 2, 'Jaime Llorente IESE': 2, 'Charlie Porter': 2, 'Jordan Altaras': 2, 'Jose IESE': 2, 'Gonzalo Diaz': 2, 'Ting Wei Huang IESE': 2, 'Diogo Borges De Andrade IESE': 2, 'Ricard Vilella IESE': 2, 'Matthieu Haddad IESE': 2, '\\u202a+55\\xa021\\xa098712‑5391\\u202c': 1, 'Shun Sekine IESE': 1, 'Eugenia Delosrios IESE': 1, 'Andres Pan De Soraluce': 1, 'Robin': 1, 'Pranav IESE': 1, 'Veronica Rodriguez': 1, 'Philip Pratte IESE': 1, 'Juan Diego Mujica IESE': 1, 'Andres Villanueva': 1, 'Alessandro Galli': 1, 'Thais Cirenza': 1, 'Aparna Murali': 1, 'Marc IESE': 1, 'Claudia IESE 🇪🇸': 1, 'Peter Shim IESE': 1}), 'Cody Brasel': Counter({'Cody Brasel': 96, 'Gonzalo Diaz': 33, 'Jasson': 28, 'Claudia IESE 🇪🇸': 24, 'Dan Faermark': 23, 'Chris Coraggio IESE': 22, 'Pia Fabbroni': 20, 'Pranav IESE': 18, 'Barbara Handam IESE': 17, 'Francisco Sá IESE': 17, 'Jorge Arbolí': 16, 'Andy Klein Iese': 15, 'Juana Toranzos': 14, 'Jose IESE': 13, 'Parsa Ghavimi': 13, 'Roberto Siman': 13, 'Jordan Altaras': 11, 'Eugenia Delosrios IESE': 9, 'Natalia Krüger IESE': 8, 'Michael Gross': 7, 'Aakanksha': 7, 'Matthieu Haddad IESE': 7, 'Harry HH IESE': 7, 'Julieta Lucci': 6, 'Disha IESE': 6, 'Marilyn Heymann': 6, 'Andres Villanueva': 6, 'Ricard Vilella IESE': 5, 'Lucas Afonso': 5, 'Hakan Karabey': 5, 'Luiza Cervetto': 5, 'Eric Wong IESE': 5, 'Marc IESE': 4, 'Ting Wei Huang IESE': 4, 'Taebo Shim': 4, 'Shelly IESE 🇨🇦': 4, 'Ana Paula IESE': 4, 'Charlie Porter': 4, 'Veronica Rodriguez': 3, 'Thais Cirenza': 3, 'Krishna Chaitanya': 3, 'Jaime Llorente IESE': 3, 'Jay Mohnot': 3, 'Slivia IESE': 3, 'Shun Sekine IESE': 3, 'Parth IESE': 2, 'Natalia Krüger': 2, 'Dino IESE': 2, 'Andrea Biancardi': 2, 'Alvaro Benito IESE': 2, 'Hari Harsha': 2, 'Aparna Murali': 2, 'Nikita IESE': 2, 'Maria Carnal IESE': 2, 'Sebastian Cyprus': 2, 'Robin': 2, 'Caio Tonon': 2, 'Juan Diego Mujica IESE': 2, 'Diogo Borges De Andrade IESE': 2, '\\u202a+56\\xa09\\xa09021\\xa00217\\u202c': 1, '\\u202a+34\\xa0687\\xa011\\xa041\\xa067\\u202c': 1, 'Andres Pan De Soraluce': 1, 'Wiehahn Gouws': 1, 'Valentina Posada': 1, 'Alan Luer IESE': 1, 'Alessandro Galli': 1, 'Yuka Ato IESE': 1}), 'Philip Pratte IESE': Counter({'Parsa Ghavimi': 5, 'Pia Fabbroni': 3, 'Philip Pratte IESE': 3, 'Andres Pan De Soraluce': 2, 'Cody Brasel': 2, 'Francisco Sá IESE': 2, 'Jordan Altaras': 2, 'Jaime Llorente IESE': 2, 'Disha IESE': 2, 'Andy Klein Iese': 2, 'Natalia Krüger': 1, 'Krishna Chaitanya': 1, 'Dino IESE': 1, 'Juan Diego Mujica IESE': 1, 'Natalia Krüger IESE': 1, 'Claudia IESE 🇪🇸': 1, 'Andres Villanueva': 1, 'Jasson': 1, 'Gonzalo Diaz': 1, 'Alan Luer IESE': 1, 'Parth IESE': 1, 'Roberto Siman': 1, 'Barbara Handam IESE': 1, 'Julieta Lucci': 1, 'Thais Cirenza': 1, 'Ana Paula IESE': 1, 'Aparna Murali': 1, 'Diogo Borges De Andrade IESE': 1}), 'Ásgeir IESE': Counter({'Ásgeir IESE': 6, 'Chris Coraggio IESE': 6, 'Francisco Sá IESE': 5, 'Gonzalo Diaz': 5, 'Dan Faermark': 4, 'Parsa Ghavimi': 4, 'Jasson': 4, 'Luiza Cervetto': 4, 'Veronica Rodriguez': 3, 'Roberto Siman': 3, 'Harry HH IESE': 3, 'Disha IESE': 3, 'Michael Gross': 3, 'Andres Pan De Soraluce': 3, 'Claudia IESE 🇪🇸': 2, 'Juana Toranzos': 2, 'Pia Fabbroni': 2, 'Andy Klein Iese': 2, 'Jorge Arbolí': 2, 'Matthieu Haddad IESE': 2, 'Thais Cirenza': 1, 'Eugenia Delosrios IESE': 1, 'Wiehahn Gouws': 1, 'Parth IESE': 1, 'Ting Wei Huang IESE': 1, 'Aparna Murali': 1, 'Maria Carnal IESE': 1, 'Andres Villanueva': 1, 'Caio Tonon': 1, 'Aakanksha': 1, 'Cody Brasel': 1, 'Robin': 1, 'Barbara Handam IESE': 1, 'Jordan Altaras': 1}), 'Pia Fabbroni': Counter({'Pia Fabbroni': 164, 'Gonzalo Diaz': 73, 'Claudia IESE 🇪🇸': 72, 'Jasson': 67, 'Dan Faermark': 67, 'Chris Coraggio IESE': 67, 'Francisco Sá IESE': 64, 'Barbara Handam IESE': 59, 'Parsa Ghavimi': 57, 'Juana Toranzos': 43, 'Jorge Arbolí': 42, 'Andy Klein Iese': 36, 'Roberto Siman': 31, 'Jaime Llorente IESE': 30, 'Jordan Altaras': 28, 'Disha IESE': 27, 'Thais Cirenza': 25, 'Pranav IESE': 23, 'Lucas Afonso': 22, 'Jose IESE': 22, 'Veronica Rodriguez': 22, 'Julieta Lucci': 21, 'Aparna Murali': 20, 'Matthieu Haddad IESE': 20, 'Marc IESE': 17, 'Ana Paula IESE': 17, 'Marilyn Heymann': 17, 'Eugenia Delosrios IESE': 14, 'Luiza Cervetto': 14, 'Alessandro Galli': 13, 'Diogo Borges De Andrade IESE': 13, 'Ricard Vilella IESE': 12, 'Natalia Krüger IESE': 12, 'Cody Brasel': 12, 'Michael Gross': 11, 'Wiehahn Gouws': 11, 'Hakan Karabey': 11, 'Andres Villanueva': 11, 'Parth IESE': 11, 'Sebastian Cyprus': 10, 'Harry HH IESE': 10, 'Dino IESE': 9, 'Andres Pan De Soraluce': 9, 'Slivia IESE': 9, 'Andrea Biancardi': 9, 'Juan Diego Mujica IESE': 8, 'Reyes DuPont IESE': 8, 'Jay Mohnot': 8, 'Eric Wong IESE': 8, 'Charlie Porter': 8, 'Alan Luer IESE': 8, 'Alvaro Benito IESE': 7, 'Robin': 7, 'Maria Carnal IESE': 6, 'Krishna Chaitanya': 5, 'Ting Wei Huang IESE': 5, 'Taebo Shim': 5, 'Shelly IESE 🇨🇦': 4, 'Caio Tonon': 3, 'Valentina Posada': 3, 'Natalia Krüger': 2, 'Tote Picañol': 2, 'Ásgeir IESE': 2, 'Nikita IESE': 2, 'Aakanksha': 2, 'Nesi Laros': 2, '\\u202a+51\\xa0973\\xa0833\\xa0697\\u202c': 1, 'Jie Yang IESE': 1, 'Philip Pratte IESE': 1, 'Hari Harsha': 1, 'Peter Shim IESE': 1}), 'Matthieu Haddad IESE': Counter({'Matthieu Haddad IESE': 50, 'Jasson': 26, 'Pia Fabbroni': 24, 'Claudia IESE 🇪🇸': 23, 'Barbara Handam IESE': 20, 'Juana Toranzos': 14, 'Parsa Ghavimi': 14, 'Gonzalo Diaz': 13, 'Chris Coraggio IESE': 11, 'Aparna Murali': 11, 'Francisco Sá IESE': 10, 'Dan Faermark': 10, 'Jose IESE': 9, 'Jordan Altaras': 8, 'Andrea Biancardi': 8, 'Andy Klein Iese': 7, 'Lucas Afonso': 7, 'Veronica Rodriguez': 7, 'Thais Cirenza': 7, 'Disha IESE': 7, 'Andres Pan De Soraluce': 6, 'Caio Tonon': 6, 'Julieta Lucci': 5, 'Parth IESE': 5, 'Pranav IESE': 5, 'Natalia Krüger IESE': 5, 'Jorge Arbolí': 5, 'Jaime Llorente IESE': 5, 'Ricard Vilella IESE': 5, 'Marilyn Heymann': 4, 'Michael Gross': 4, 'Wiehahn Gouws': 4, 'Jay Mohnot': 4, 'Marc IESE': 4, 'Eugenia Delosrios IESE': 4, 'Maria Carnal IESE': 4, 'Alan Luer IESE': 4, 'Andres Villanueva': 4, 'Alvaro Benito IESE': 3, 'Charlie Porter': 3, 'Dino IESE': 3, 'Aakanksha': 3, 'Ásgeir IESE': 3, 'Alessandro Galli': 3, 'Luiza Cervetto': 3, 'Roberto Siman': 3, 'Cody Brasel': 2, 'Eric Wong IESE': 2, 'Robin': 2, 'Nikita IESE': 2, 'Diogo Borges De Andrade IESE': 2, 'Slivia IESE': 2, 'Nesi Laros': 2, 'Ana Paula IESE': 2, 'Harry HH IESE': 2, 'Taebo Shim': 1, 'Reyes DuPont IESE': 1, 'Juan Diego Mujica IESE': 1, 'Krishna Chaitanya': 1, 'Philip Pratte IESE': 1, 'Jan Warmus': 1, 'Hari Harsha': 1, 'Hakan Karabey': 1, 'Ting Wei Huang IESE': 1}), 'Ting Wei Huang IESE': Counter({'Ting Wei Huang IESE': 14, 'Jorge Arbolí': 8, 'Eric Wong IESE': 6, 'Barbara Handam IESE': 6, 'Pia Fabbroni': 6, 'Jasson': 5, 'Andres Villanueva': 4, 'Dan Faermark': 4, 'Thais Cirenza': 3, 'Chris Coraggio IESE': 3, 'Francisco Sá IESE': 3, 'Nikita IESE': 3, 'Ana Paula IESE': 3, 'Andy Klein Iese': 3, 'Parsa Ghavimi': 3, 'Andres Pan De Soraluce': 3, 'Krishna Chaitanya': 2, 'Jose IESE': 2, 'Pranav IESE': 2, 'Shelly IESE 🇨🇦': 2, 'Philip Pratte IESE': 2, 'Reyes DuPont IESE': 2, 'Gonzalo Diaz': 2, 'Lucas Afonso': 2, 'Roberto Siman': 2, 'Alessandro Galli': 2, 'Ricard Vilella IESE': 2, 'Claudia IESE 🇪🇸': 2, 'Luiza Cervetto': 1, 'Aparna Murali': 1, 'Parth IESE': 1, 'Juan Diego Mujica IESE': 1, 'Jay Mohnot': 1, 'Dino IESE': 1, 'Aakanksha': 1, 'Matthieu Haddad IESE': 1, 'Sebastian Cyprus': 1, 'Cody Brasel': 1, 'Michael Gross': 1, 'Hakan Karabey': 1, 'Diogo Borges De Andrade IESE': 1, 'Shun Sekine IESE': 1, 'Marc IESE': 1, 'Robin': 1}), 'Jie Yang IESE': Counter({'Jie Yang IESE': 6, 'Disha IESE': 4, 'Andres Pan De Soraluce': 3, 'Chris Coraggio IESE': 3, 'Jose IESE': 2, 'Slivia IESE': 2, 'Alvaro Benito IESE': 2, 'Parsa Ghavimi': 2, 'Jasson': 1, 'Francisco Sá IESE': 1, 'Veronica Rodriguez': 1, 'Juana Toranzos': 1, 'Aakanksha': 1, 'Jaime Llorente IESE': 1, 'Pranav IESE': 1, 'Nesi Laros': 1, 'Lucas Afonso': 1, 'Marilyn Heymann': 1, 'Shun Sekine IESE': 1, 'Krishna Chaitanya': 1, 'Andy Klein Iese': 1}), 'Alan Luer IESE': Counter({'Claudia IESE 🇪🇸': 7, 'Jasson': 6, 'Matthieu Haddad IESE': 6, 'Jaime Llorente IESE': 6, 'Pia Fabbroni': 5, 'Alan Luer IESE': 4, 'Disha IESE': 4, 'Jose IESE': 3, 'Chris Coraggio IESE': 3, 'Roberto Siman': 2, 'Jordan Altaras': 2, 'Dino IESE': 2, 'Ricard Vilella IESE': 2, 'Natalia Krüger IESE': 2, 'Pranav IESE': 2, 'Dan Faermark': 2, 'Jorge Arbolí': 2, 'Robin': 2, 'Andres Villanueva': 2, '\\u202a+51\\xa0973\\xa0833\\xa0697\\u202c': 1, 'Julieta Lucci': 1, 'Yuka Ato IESE': 1, 'Marilyn Heymann': 1, 'Parth IESE': 1, 'Jay Mohnot': 1, 'Jie Yang IESE': 1, 'Alvaro Benito IESE': 1, 'Nikita IESE': 1, 'Francisco Sá IESE': 1, 'Andres Pan De Soraluce': 1, 'Gonzalo Diaz': 1, 'Charlie Porter': 1, 'Cody Brasel': 1, 'Eugenia Delosrios IESE': 1, 'Veronica Rodriguez': 1, 'Andrea Biancardi': 1, 'Parsa Ghavimi': 1, 'Michael Gross': 1, 'Nesi Laros': 1, 'Caio Tonon': 1, 'Eric Wong IESE': 1, 'Diogo Borges De Andrade IESE': 1, 'Taebo Shim': 1, 'Ana Paula IESE': 1, 'Andy Klein Iese': 1, 'Reyes DuPont IESE': 1, 'Valentina Posada': 1, 'Barbara Handam IESE': 1, 'Ting Wei Huang IESE': 1, 'Aparna Murali': 1, 'Wiehahn Gouws': 1}), 'Krishna Chaitanya': Counter({'Krishna Chaitanya': 54, 'Claudia IESE 🇪🇸': 18, 'Francisco Sá IESE': 10, 'Dan Faermark': 9, 'Julieta Lucci': 8, 'Barbara Handam IESE': 8, 'Parsa Ghavimi': 7, 'Jasson': 7, 'Jose IESE': 7, 'Jorge Arbolí': 7, 'Pia Fabbroni': 7, 'Juana Toranzos': 6, 'Chris Coraggio IESE': 6, 'Andy Klein Iese': 5, 'Ricard Vilella IESE': 5, 'Juan Diego Mujica IESE': 5, 'Marilyn Heymann': 5, 'Gonzalo Diaz': 4, 'Natalia Krüger IESE': 4, 'Aparna Murali': 4, 'Parth IESE': 4, 'Jordan Altaras': 4, '\\u202a+51\\xa0973\\xa0833\\xa0697\\u202c': 3, 'Eugenia Delosrios IESE': 3, 'Natalia Krüger': 3, 'Jaime Llorente IESE': 3, 'Roberto Siman': 3, 'Reyes DuPont IESE': 3, 'Disha IESE': 3, 'Veronica Rodriguez': 3, 'Aakanksha': 3, 'Ana Paula IESE': 3, 'Dino IESE': 2, 'Charlie Porter': 2, 'Cody Brasel': 2, 'Andres Pan De Soraluce': 2, 'Pranav IESE': 2, 'Shelly IESE 🇨🇦': 2, 'Hari Harsha': 2, 'Jay Mohnot': 2, 'Slivia IESE': 2, 'Andrea Biancardi': 2, 'Lucas Afonso': 1, '\\u202a+34\\xa0687\\xa011\\xa041\\xa067\\u202c': 1, 'Alvaro Benito IESE': 1, 'Diogo Borges De Andrade IESE': 1, 'Thais Cirenza': 1, 'Philip Pratte IESE': 1, 'Robin': 1, 'Maria Carnal IESE': 1, 'Alessandro Galli': 1, 'Luiza Cervetto': 1, 'Alan Luer IESE': 1, 'Andres Villanueva': 1, 'Hakan Karabey': 1, 'Ásgeir IESE': 1, 'Harry HH IESE': 1, 'Eric Wong IESE': 1}), 'Diogo Borges De Andrade IESE': Counter({'Diogo Borges De Andrade IESE': 28, 'Jasson': 21, 'Chris Coraggio IESE': 18, 'Gonzalo Diaz': 17, 'Andy Klein Iese': 13, 'Claudia IESE 🇪🇸': 12, 'Parsa Ghavimi': 11, 'Dan Faermark': 11, 'Francisco Sá IESE': 10, 'Aakanksha': 10, 'Pia Fabbroni': 10, 'Pranav IESE': 9, 'Barbara Handam IESE': 9, 'Jorge Arbolí': 8, 'Juana Toranzos': 8, 'Matthieu Haddad IESE': 8, 'Disha IESE': 7, 'Marilyn Heymann': 6, 'Caio Tonon': 6, 'Veronica Rodriguez': 5, 'Jaime Llorente IESE': 4, 'Lucas Afonso': 4, 'Aparna Murali': 4, 'Jordan Altaras': 4, 'Ana Paula IESE': 4, 'Maria Carnal IESE': 4, 'Andres Pan De Soraluce': 3, 'Julieta Lucci': 3, 'Wiehahn Gouws': 3, 'Cody Brasel': 3, 'Parth IESE': 3, 'Harry HH IESE': 3, 'Valentina Posada': 3, 'Roberto Siman': 3, 'Andrea Biancardi': 2, 'Jose IESE': 2, 'Taebo Shim': 2, 'Krishna Chaitanya': 2, 'Andres Villanueva': 2, 'Michael Gross': 2, 'Charlie Porter': 2, 'Hakan Karabey': 2, 'Ricard Vilella IESE': 2, 'Juan Diego Mujica IESE': 2, 'Philip Pratte IESE': 2, '\\u202a+55\\xa021\\xa098712‑5391\\u202c': 1, 'Yuka Ato IESE': 1, 'Tote Picañol': 1, 'Marc IESE': 1, 'Thais Cirenza': 1, 'Hari Harsha': 1, 'Natalia Krüger IESE': 1, 'Nesi Laros': 1, 'Eric Wong IESE': 1, 'Ásgeir IESE': 1, 'Eugenia Delosrios IESE': 1, 'Luiza Cervetto': 1, 'Alan Luer IESE': 1, 'Sebastian Cyprus': 1, 'Peter Shim IESE': 1}), '\\u202a+51\\xa0973\\xa0833\\xa0697\\u202c': Counter({'Barbara Handam IESE': 2, 'Claudia IESE 🇪🇸': 2, 'Roberto Siman': 2, '\\u202a+51\\xa0996\\xa0209\\xa0339\\u202c': 1, 'Alan Luer IESE': 1, 'Aakanksha': 1, 'Aparna Murali': 1, 'Julieta Lucci': 1, 'Michael Gross': 1, 'Jasson': 1, 'Lucas Afonso': 1, 'Natalia Krüger': 1, 'Alvaro Benito IESE': 1, 'Matthieu Haddad IESE': 1, 'Jordan Altaras': 1, '\\u202a+51\\xa0973\\xa0833\\xa0697\\u202c': 1}), 'Jorge Arbolí': Counter({'Jorge Arbolí': 128, 'Jasson': 53, 'Francisco Sá IESE': 49, 'Dan Faermark': 47, 'Gonzalo Diaz': 46, 'Pia Fabbroni': 43, 'Chris Coraggio IESE': 38, 'Claudia IESE 🇪🇸': 35, 'Parsa Ghavimi': 33, 'Julieta Lucci': 26, 'Andy Klein Iese': 26, 'Jaime Llorente IESE': 25, 'Juana Toranzos': 25, 'Barbara Handam IESE': 24, 'Jordan Altaras': 21, 'Pranav IESE': 20, 'Lucas Afonso': 19, 'Roberto Siman': 19, 'Cody Brasel': 14, 'Aparna Murali': 14, 'Hakan Karabey': 14, 'Aakanksha': 13, 'Andres Pan De Soraluce': 13, 'Jose IESE': 13, 'Alessandro Galli': 12, 'Disha IESE': 11, 'Dino IESE': 11, 'Harry HH IESE': 11, 'Marc IESE': 11, 'Thais Cirenza': 11, 'Robin': 11, 'Wiehahn Gouws': 10, 'Michael Gross': 10, 'Parth IESE': 9, 'Veronica Rodriguez': 9, 'Eric Wong IESE': 9, 'Ricard Vilella IESE': 8, 'Charlie Porter': 8, 'Andrea Biancardi': 7, 'Diogo Borges De Andrade IESE': 7, 'Caio Tonon': 7, 'Alvaro Benito IESE': 7, 'Ana Paula IESE': 7, 'Eugenia Delosrios IESE': 7, 'Andres Villanueva': 7, 'Luiza Cervetto': 7, 'Tote Picañol': 6, 'Jay Mohnot': 5, 'Maria Carnal IESE': 5, 'Hari Harsha': 5, 'Krishna Chaitanya': 4, 'Matthieu Haddad IESE': 4, 'Natalia Krüger IESE': 4, 'Marilyn Heymann': 4, 'Philip Pratte IESE': 3, 'Sebastian Cyprus': 3, 'Alan Luer IESE': 2, 'Taebo Shim': 2, 'Carlos España': 2, 'Shelly IESE 🇨🇦': 2, 'Reyes DuPont IESE': 2, 'Slivia IESE': 2, 'Juan Diego Mujica IESE': 2, 'Jie Yang IESE': 1, 'Natalia Krüger': 1, 'Valentina Posada': 1, 'Por Boonyam': 1, 'Nesi Laros': 1, 'Ting Wei Huang IESE': 1, 'Nikita IESE': 1}), 'Carlos España': Counter({'Carlos España': 5, 'Francisco Sá IESE': 3, 'Cody Brasel': 2, 'Barbara Handam IESE': 2, 'Chris Coraggio IESE': 2, 'Andres Villanueva': 2, 'Pranav IESE': 2, 'Aparna Murali': 2, 'Jordan Altaras': 2, 'Jasson': 2, 'Natalia Krüger IESE': 2, 'Jay Mohnot': 2, 'Dan Faermark': 1, 'Parth IESE': 1, 'Thais Cirenza': 1, 'Jorge Arbolí': 1, 'Jose IESE': 1, 'Andres Pan De Soraluce': 1, 'Alessandro Galli': 1, 'Michael Gross': 1, 'Julieta Lucci': 1}), 'Harry HH IESE': Counter({'Harry HH IESE': 82, 'Claudia IESE 🇪🇸': 46, 'Jasson': 40, 'Francisco Sá IESE': 34, 'Chris Coraggio IESE': 28, 'Gonzalo Diaz': 25, 'Andy Klein Iese': 21, 'Barbara Handam IESE': 21, 'Dan Faermark': 20, 'Jorge Arbolí': 16, 'Pia Fabbroni': 14, 'Jordan Altaras': 12, 'Luiza Cervetto': 11, 'Robin': 10, 'Aparna Murali': 9, 'Parsa Ghavimi': 9, 'Parth IESE': 9, 'Diogo Borges De Andrade IESE': 9, 'Disha IESE': 9, 'Natalia Krüger IESE': 8, 'Jose IESE': 8, 'Cody Brasel': 8, 'Alessandro Galli': 8, 'Roberto Siman': 8, 'Juana Toranzos': 8, 'Julieta Lucci': 7, 'Eugenia Delosrios IESE': 7, 'Lucas Afonso': 7, 'Jaime Llorente IESE': 6, 'Hakan Karabey': 6, 'Pranav IESE': 6, 'Charlie Porter': 6, 'Matthieu Haddad IESE': 6, 'Wiehahn Gouws': 5, 'Ásgeir IESE': 4, 'Michael Gross': 4, 'Jay Mohnot': 3, 'Aakanksha': 3, 'Ricard Vilella IESE': 3, 'Marilyn Heymann': 3, 'Hari Harsha': 3, 'Juan Diego Mujica IESE': 2, 'Marc IESE': 2, 'Andrea Biancardi': 2, 'Dino IESE': 2, 'Sebastian Cyprus': 2, 'Caio Tonon': 2, 'Maria Carnal IESE': 2, 'Alvaro Benito IESE': 1, 'Andres Pan De Soraluce': 1, 'Veronica Rodriguez': 1, 'Shelly IESE 🇨🇦': 1, 'Slivia IESE': 1, 'Taebo Shim': 1, 'Reyes DuPont IESE': 1, 'Krishna Chaitanya': 1, 'Shun Sekine IESE': 1, 'Eric Wong IESE': 1, 'Thais Cirenza': 1, 'Valentina Posada': 1, 'Andres Villanueva': 1, 'Alan Luer IESE': 1}), 'Jay Mohnot': Counter({'Jay Mohnot': 11, 'Claudia IESE 🇪🇸': 11, 'Pranav IESE': 8, 'Pia Fabbroni': 7, 'Jorge Arbolí': 6, 'Francisco Sá IESE': 6, 'Jasson': 6, 'Aparna Murali': 5, 'Jaime Llorente IESE': 5, 'Disha IESE': 4, 'Dan Faermark': 4, 'Juana Toranzos': 4, 'Ana Paula IESE': 4, 'Eric Wong IESE': 4, 'Barbara Handam IESE': 4, 'Ricard Vilella IESE': 4, 'Gonzalo Diaz': 4, 'Jordan Altaras': 4, 'Jose IESE': 4, 'Robin': 4, 'Andres Pan De Soraluce': 3, 'Lucas Afonso': 3, 'Parth IESE': 2, 'Reyes DuPont IESE': 2, 'Taebo Shim': 2, 'Andrea Biancardi': 2, 'Chris Coraggio IESE': 2, 'Eugenia Delosrios IESE': 2, 'Maria Carnal IESE': 2, 'Dino IESE': 2, 'Jan Warmus': 1, 'Wiehahn Gouws': 1, 'Philip Pratte IESE': 1, 'Krishna Chaitanya': 1, 'Valentina Posada': 1, 'Slivia IESE': 1, 'Andy Klein Iese': 1, 'Alvaro Benito IESE': 1, 'Cody Brasel': 1, 'Natalia Krüger IESE': 1, 'Alan Luer IESE': 1, 'Marilyn Heymann': 1, 'Diogo Borges De Andrade IESE': 1, 'Parsa Ghavimi': 1, 'Thais Cirenza': 1, 'Luiza Cervetto': 1, 'Sebastian Cyprus': 1, 'Ásgeir IESE': 1, 'Juan Diego Mujica IESE': 1, 'Charlie Porter': 1, 'Julieta Lucci': 1}), 'Slivia IESE': Counter({'Slivia IESE': 19, 'Jasson': 10, 'Ana Paula IESE': 5, 'Juana Toranzos': 5, 'Parsa Ghavimi': 5, 'Francisco Sá IESE': 4, 'Jie Yang IESE': 4, 'Veronica Rodriguez': 4, 'Alvaro Benito IESE': 3, 'Harry HH IESE': 3, 'Claudia IESE 🇪🇸': 3, 'Jordan Altaras': 3, 'Aparna Murali': 3, 'Barbara Handam IESE': 3, 'Gonzalo Diaz': 3, 'Roberto Siman': 3, 'Shelly IESE 🇨🇦': 2, 'Taebo Shim': 2, 'Pia Fabbroni': 2, 'Andres Villanueva': 2, 'Andrea Biancardi': 2, 'Natalia Krüger IESE': 2, 'Parth IESE': 2, 'Ting Wei Huang IESE': 2, 'Dan Faermark': 2, 'Jose IESE': 1, 'Thais Cirenza': 1, 'Valentina Posada': 1, 'Juan Diego Mujica IESE': 1, 'Charlie Porter': 1, 'Shun Sekine IESE': 1, 'Maria Carnal IESE': 1, 'Robin': 1, 'Marilyn Heymann': 1, 'Pranav IESE': 1, 'Matthieu Haddad IESE': 1, 'Alan Luer IESE': 1, 'Dino IESE': 1, 'Nesi Laros': 1, 'Sebastian Cyprus': 1, 'Jorge Arbolí': 1, 'Cody Brasel': 1, 'Jay Mohnot': 1, 'Disha IESE': 1, 'Chris Coraggio IESE': 1}), 'Robin': Counter({'Robin': 24, 'Claudia IESE 🇪🇸': 19, 'Francisco Sá IESE': 18, 'Gonzalo Diaz': 17, 'Parsa Ghavimi': 17, 'Andy Klein Iese': 17, 'Pia Fabbroni': 16, 'Roberto Siman': 16, 'Jordan Altaras': 14, 'Juana Toranzos': 13, 'Barbara Handam IESE': 12, 'Jasson': 11, 'Chris Coraggio IESE': 10, 'Dan Faermark': 10, 'Marilyn Heymann': 9, 'Jose IESE': 8, 'Ricard Vilella IESE': 7, 'Pranav IESE': 7, 'Jay Mohnot': 6, 'Dino IESE': 6, 'Jorge Arbolí': 6, 'Harry HH IESE': 6, 'Aparna Murali': 6, 'Julieta Lucci': 5, 'Andrea Biancardi': 5, 'Lucas Afonso': 4, 'Ana Paula IESE': 4, 'Jaime Llorente IESE': 4, 'Natalia Krüger IESE': 4, 'Disha IESE': 3, 'Eric Wong IESE': 3, 'Marc IESE': 3, 'Alvaro Benito IESE': 3, 'Juan Diego Mujica IESE': 3, 'Cody Brasel': 3, 'Diogo Borges De Andrade IESE': 3, 'Eugenia Delosrios IESE': 2, 'Philip Pratte IESE': 2, 'Veronica Rodriguez': 2, 'Andres Pan De Soraluce': 2, 'Maria Carnal IESE': 2, 'Reyes DuPont IESE': 2, 'Charlie Porter': 2, 'Matthieu Haddad IESE': 2, 'Michael Gross': 2, 'Hakan Karabey': 2, 'Caio Tonon': 1, 'Parth IESE': 1, 'Slivia IESE': 1, 'Jie Yang IESE': 1, 'Luiza Cervetto': 1, 'Taebo Shim': 1, 'Tote Picañol': 1, 'Sebastian Cyprus': 1, 'Ásgeir IESE': 1, 'Thais Cirenza': 1, 'Ting Wei Huang IESE': 1}), 'Shelly IESE 🇨🇦': Counter({'Shelly IESE 🇨🇦': 6, 'Claudia IESE 🇪🇸': 5, 'Pia Fabbroni': 5, 'Francisco Sá IESE': 4, 'Aparna Murali': 4, 'Dan Faermark': 4, 'Juana Toranzos': 3, 'Eric Wong IESE': 3, 'Jose IESE': 3, 'Andres Pan De Soraluce': 3, 'Jordan Altaras': 3, 'Gonzalo Diaz': 3, 'Parsa Ghavimi': 3, 'Jasson': 3, 'Cody Brasel': 3, 'Barbara Handam IESE': 2, 'Michael Gross': 2, 'Chris Coraggio IESE': 2, 'Alvaro Benito IESE': 2, 'Slivia IESE': 2, 'Taebo Shim': 2, 'Robin': 2, 'Andrea Biancardi': 2, 'Ting Wei Huang IESE': 2, 'Andres Villanueva': 2, 'Ana Paula IESE': 2, 'Natalia Krüger IESE': 2, 'Aakanksha': 1, 'Parth IESE': 1, 'Philip Pratte IESE': 1, 'Pranav IESE': 1, 'Nikita IESE': 1, 'Krishna Chaitanya': 1, 'Jorge Arbolí': 1, 'Veronica Rodriguez': 1, 'Thais Cirenza': 1, 'Lucas Afonso': 1, 'Nesi Laros': 1, 'Harry HH IESE': 1, 'Ásgeir IESE': 1, 'Matthieu Haddad IESE': 1, 'Diogo Borges De Andrade IESE': 1, 'Wiehahn Gouws': 1, 'Marilyn Heymann': 1, 'Julieta Lucci': 1, 'Marc IESE': 1}), 'Ricard Vilella IESE': Counter({'Ricard Vilella IESE': 51, 'Dan Faermark': 20, 'Juana Toranzos': 20, 'Francisco Sá IESE': 18, 'Jasson': 17, 'Claudia IESE 🇪🇸': 15, 'Gonzalo Diaz': 12, 'Jorge Arbolí': 12, 'Chris Coraggio IESE': 11, 'Jay Mohnot': 9, 'Jordan Altaras': 9, 'Jaime Llorente IESE': 7, 'Pia Fabbroni': 7, 'Barbara Handam IESE': 7, 'Charlie Porter': 7, 'Cody Brasel': 6, 'Eugenia Delosrios IESE': 5, 'Andres Villanueva': 5, 'Jose IESE': 5, 'Marilyn Heymann': 5, 'Dino IESE': 4, 'Roberto Siman': 4, 'Parsa Ghavimi': 4, 'Lucas Afonso': 4, 'Julieta Lucci': 3, 'Disha IESE': 3, 'Matthieu Haddad IESE': 3, 'Alvaro Benito IESE': 3, 'Robin': 3, 'Alessandro Galli': 3, 'Hakan Karabey': 3, 'Natalia Krüger IESE': 3, 'Veronica Rodriguez': 2, 'Andy Klein Iese': 2, 'Harry HH IESE': 2, 'Tote Picañol': 2, 'Nesi Laros': 2, 'Krishna Chaitanya': 2, '\\u202a+351\\xa0913\\xa0401\\xa0922\\u202c': 2, 'Ásgeir IESE': 1, 'Natalia Krüger': 1, 'Sebastian Cyprus': 1, 'Reyes DuPont IESE': 1, 'Alan Luer IESE': 1, 'Luiza Cervetto': 1, 'Juan Diego Mujica IESE': 1, 'Michael Gross': 1, 'Pranav IESE': 1, 'Diogo Borges De Andrade IESE': 1, 'Marc IESE': 1, 'Parth IESE': 1, 'Maria Carnal IESE': 1}), 'Andres Pan De Soraluce': Counter({'Andres Pan De Soraluce': 56, 'Claudia IESE 🇪🇸': 24, 'Jasson': 18, 'Chris Coraggio IESE': 13, 'Pia Fabbroni': 11, 'Francisco Sá IESE': 10, 'Harry HH IESE': 8, 'Dan Faermark': 7, 'Dino IESE': 7, 'Michael Gross': 7, 'Jaime Llorente IESE': 6, 'Juana Toranzos': 6, 'Alvaro Benito IESE': 6, 'Reyes DuPont IESE': 6, 'Andy Klein Iese': 6, 'Jordan Altaras': 5, 'Barbara Handam IESE': 5, 'Veronica Rodriguez': 4, 'Pranav IESE': 4, 'Gonzalo Diaz': 4, 'Jorge Arbolí': 4, 'Ana Paula IESE': 4, 'Wiehahn Gouws': 4, 'Jose IESE': 4, 'Thais Cirenza': 4, 'Diogo Borges De Andrade IESE': 4, 'Jay Mohnot': 3, 'Krishna Chaitanya': 3, 'Eugenia Delosrios IESE': 3, 'Robin': 3, 'Julieta Lucci': 3, 'Parsa Ghavimi': 3, 'Natalia Krüger IESE': 3, 'Disha IESE': 3, 'Alan Luer IESE': 3, 'Alessandro Galli': 3, 'Aakanksha': 3, 'Luiza Cervetto': 3, 'Andrea Biancardi': 2, 'Juan Diego Mujica IESE': 2, 'Marilyn Heymann': 2, 'Matthieu Haddad IESE': 2, 'Maria Carnal IESE': 2, 'Marc IESE': 2, 'Shelly IESE 🇨🇦': 2, 'Sebastian Cyprus': 2, 'Eric Wong IESE': 2, 'Ásgeir IESE': 2, 'Ricard Vilella IESE': 2, 'Cody Brasel': 1, 'Shun Sekine IESE': 1, 'Caio Tonon': 1, 'Hari Harsha': 1, 'Tote Picañol': 1, 'Philip Pratte IESE': 1, 'Slivia IESE': 1, 'Taebo Shim': 1, 'Aparna Murali': 1, 'Lucas Afonso': 1, 'Andres Villanueva': 1, 'Roberto Siman': 1, 'Hakan Karabey': 1, 'Por Boonyam': 1}), 'Marc IESE': Counter({'Marc IESE': 26, 'Jasson': 19, 'Francisco Sá IESE': 18, 'Claudia IESE 🇪🇸': 16, 'Chris Coraggio IESE': 14, 'Gonzalo Diaz': 14, 'Barbara Handam IESE': 12, 'Jorge Arbolí': 12, 'Pia Fabbroni': 10, 'Andy Klein Iese': 10, 'Juana Toranzos': 9, 'Aakanksha': 8, 'Hakan Karabey': 7, 'Matthieu Haddad IESE': 6, 'Parsa Ghavimi': 6, 'Jordan Altaras': 6, 'Dan Faermark': 6, 'Julieta Lucci': 5, 'Jaime Llorente IESE': 5, 'Natalia Krüger IESE': 5, 'Cody Brasel': 5, 'Maria Carnal IESE': 4, 'Thais Cirenza': 4, 'Pranav IESE': 4, 'Disha IESE': 4, 'Shun Sekine IESE': 3, 'Roberto Siman': 3, 'Alvaro Benito IESE': 3, 'Robin': 3, 'Jay Mohnot': 3, 'Harry HH IESE': 3, 'Aparna Murali': 3, 'Luiza Cervetto': 3, 'Dino IESE': 3, 'Natalia Krüger': 2, 'Lucas Afonso': 2, 'Veronica Rodriguez': 2, 'Tote Picañol': 2, 'Andrea Biancardi': 2, 'Taebo Shim': 2, 'Eugenia Delosrios IESE': 2, 'Nikita IESE': 2, 'Krishna Chaitanya': 2, 'Alessandro Galli': 2, 'Ana Paula IESE': 2, 'Reyes DuPont IESE': 2, 'Michael Gross': 2, 'Diogo Borges De Andrade IESE': 2, 'Ting Wei Huang IESE': 2, 'Wiehahn Gouws': 2, '\\u202a+55\\xa021\\xa098712‑5391\\u202c': 1, 'Valentina Posada': 1, 'Slivia IESE': 1, 'Philip Pratte IESE': 1, 'Alan Luer IESE': 1, 'Caio Tonon': 1, 'Juan Diego Mujica IESE': 1, 'Charlie Porter': 1, 'Eric Wong IESE': 1, 'Andres Villanueva': 1, 'Nesi Laros': 1, 'Ricard Vilella IESE': 1, 'Hari Harsha': 1}), 'Shun Sekine IESE': Counter({'Barbara Handam IESE': 6, 'Jordan Altaras': 3, 'Shun Sekine IESE': 3, 'Gonzalo Diaz': 3, 'Jorge Arbolí': 2, 'Claudia IESE 🇪🇸': 2, 'Francisco Sá IESE': 2, 'Pranav IESE': 2, 'Krishna Chaitanya': 2, 'Chris Coraggio IESE': 2, 'Pia Fabbroni': 2, 'Dan Faermark': 1, 'Philip Pratte IESE': 1, 'Veronica Rodriguez': 1, 'Robin': 1, 'Sebastian Cyprus': 1, 'Juana Toranzos': 1, 'Jasson': 1, 'Parth IESE': 1, 'Maria Carnal IESE': 1, 'Parsa Ghavimi': 1, 'Natalia Krüger IESE': 1, 'Andrea Biancardi': 1, 'Andy Klein Iese': 1, 'Disha IESE': 1, 'Jay Mohnot': 1, 'Jose IESE': 1, 'Dino IESE': 1, 'Marilyn Heymann': 1, 'Eric Wong IESE': 1, 'Peter Shim IESE': 1}), 'Reyes DuPont IESE': Counter({'Reyes DuPont IESE': 21, 'Claudia IESE 🇪🇸': 11, 'Jasson': 6, 'Jaime Llorente IESE': 6, 'Barbara Handam IESE': 6, 'Chris Coraggio IESE': 6, 'Pia Fabbroni': 5, 'Parsa Ghavimi': 5, 'Francisco Sá IESE': 5, 'Roberto Siman': 5, 'Ana Paula IESE': 5, 'Andy Klein Iese': 4, 'Dan Faermark': 4, 'Disha IESE': 4, 'Marilyn Heymann': 4, 'Aakanksha': 3, 'Thais Cirenza': 3, 'Alvaro Benito IESE': 3, 'Ásgeir IESE': 3, 'Juan Diego Mujica IESE': 3, 'Veronica Rodriguez': 3, '\\u202a+56\\xa09\\xa09021\\xa00217\\u202c': 2, 'Gonzalo Diaz': 2, 'Charlie Porter': 2, 'Philip Pratte IESE': 2, 'Parth IESE': 2, 'Jorge Arbolí': 2, 'Alessandro Galli': 2, 'Wiehahn Gouws': 2, 'Alan Luer IESE': 2, 'Marc IESE': 2, 'Jay Mohnot': 2, 'Cody Brasel': 2, '\\u202a+34\\xa0687\\xa011\\xa041\\xa067\\u202c': 1, 'Matthieu Haddad IESE': 1, 'Michael Gross': 1, 'Jan Warmus': 1, 'Aparna Murali': 1, 'Natalia Krüger': 1, 'Andrea Biancardi': 1, 'Pranav IESE': 1, 'Valentina Posada': 1, 'Krishna Chaitanya': 1, 'Harry HH IESE': 1, 'Ricard Vilella IESE': 1, 'Maria Carnal IESE': 1, 'Lucas Afonso': 1, 'Robin': 1, 'Hakan Karabey': 1, 'Shun Sekine IESE': 1, 'Jose IESE': 1, 'Por Boonyam': 1, 'Dino IESE': 1, 'Andres Pan De Soraluce': 1}), 'Marilyn Heymann': Counter({'Marilyn Heymann': 77, 'Pia Fabbroni': 28, 'Jasson': 25, 'Claudia IESE 🇪🇸': 20, 'Chris Coraggio IESE': 19, 'Dan Faermark': 18, 'Barbara Handam IESE': 17, 'Parsa Ghavimi': 17, 'Francisco Sá IESE': 15, 'Gonzalo Diaz': 14, 'Andy Klein Iese': 13, 'Juana Toranzos': 13, 'Matthieu Haddad IESE': 11, 'Jorge Arbolí': 11, 'Cody Brasel': 10, 'Jaime Llorente IESE': 10, 'Ana Paula IESE': 10, 'Pranav IESE': 10, 'Aakanksha': 8, 'Veronica Rodriguez': 8, 'Alvaro Benito IESE': 7, 'Thais Cirenza': 7, 'Jordan Altaras': 7, 'Lucas Afonso': 6, 'Aparna Murali': 5, 'Julieta Lucci': 5, 'Krishna Chaitanya': 5, 'Eric Wong IESE': 5, 'Juan Diego Mujica IESE': 5, 'Harry HH IESE': 5, 'Jose IESE': 4, 'Michael Gross': 4, 'Andres Pan De Soraluce': 4, 'Charlie Porter': 4, 'Alessandro Galli': 4, 'Andrea Biancardi': 4, 'Diogo Borges De Andrade IESE': 4, 'Sebastian Cyprus': 4, 'Disha IESE': 4, 'Parth IESE': 3, 'Dino IESE': 3, 'Alan Luer IESE': 3, 'Tote Picañol': 3, 'Natalia Krüger IESE': 3, 'Yuka Ato IESE': 2, 'Jie Yang IESE': 2, 'Roberto Siman': 2, 'Marc IESE': 2, 'Hakan Karabey': 2, 'Robin': 2, 'Valentina Posada': 2, '\\u202a+56\\xa09\\xa07543\\xa07459\\u202c': 2, '\\u202a+56\\xa09\\xa09021\\xa00217\\u202c': 1, 'Nesi Laros': 1, 'Reyes DuPont IESE': 1, 'Shelly IESE 🇨🇦': 1, 'Andres Villanueva': 1, 'Caio Tonon': 1, 'Luiza Cervetto': 1, 'Ricard Vilella IESE': 1, 'Maria Carnal IESE': 1}), 'Yuka Ato IESE': Counter({'Yuka Ato IESE': 7, 'Jasson': 1, 'Valentina Posada': 1, 'Andres Pan De Soraluce': 1, 'Claudia IESE 🇪🇸': 1, 'Hakan Karabey': 1}), 'Tote Picañol': Counter({'Tote Picañol': 8, 'Barbara Handam IESE': 5, 'Pranav IESE': 4, 'Claudia IESE 🇪🇸': 4, 'Jasson': 3, 'Chris Coraggio IESE': 3, 'Hakan Karabey': 2, 'Jay Mohnot': 2, 'Gonzalo Diaz': 2, 'Julieta Lucci': 2, 'Pia Fabbroni': 2, 'Jorge Arbolí': 2, 'Reyes DuPont IESE': 2, 'Aparna Murali': 1, 'Lucas Afonso': 1, 'Roberto Siman': 1, 'Caio Tonon': 1, 'Juana Toranzos': 1, 'Francisco Sá IESE': 1, 'Dino IESE': 1, 'Aakanksha': 1, 'Andy Klein Iese': 1, 'Alessandro Galli': 1, 'Harry HH IESE': 1, 'Ana Paula IESE': 1, 'Parsa Ghavimi': 1, 'Jordan Altaras': 1, 'Andres Pan De Soraluce': 1, 'Wiehahn Gouws': 1, 'Charlie Porter': 1}), 'Hakan Karabey': Counter({'Hakan Karabey': 88, 'Claudia IESE 🇪🇸': 42, 'Jasson': 32, 'Chris Coraggio IESE': 28, 'Francisco Sá IESE': 27, 'Barbara Handam IESE': 20, 'Pia Fabbroni': 20, 'Lucas Afonso': 19, 'Gonzalo Diaz': 18, 'Juana Toranzos': 17, 'Jorge Arbolí': 17, 'Roberto Siman': 17, 'Jordan Altaras': 13, 'Dan Faermark': 12, 'Parsa Ghavimi': 12, 'Andy Klein Iese': 12, 'Aparna Murali': 11, 'Pranav IESE': 9, 'Aakanksha': 9, 'Veronica Rodriguez': 9, 'Jose IESE': 9, 'Cody Brasel': 7, 'Julieta Lucci': 7, 'Natalia Krüger IESE': 7, 'Thais Cirenza': 6, 'Wiehahn Gouws': 6, 'Alessandro Galli': 6, 'Harry HH IESE': 5, 'Charlie Porter': 5, 'Andres Villanueva': 5, 'Marc IESE': 5, 'Marilyn Heymann': 5, 'Ricard Vilella IESE': 5, 'Disha IESE': 5, 'Michael Gross': 4, 'Jaime Llorente IESE': 4, 'Matthieu Haddad IESE': 4, 'Diogo Borges De Andrade IESE': 4, 'Parth IESE': 3, 'Luiza Cervetto': 3, 'Robin': 3, 'Alvaro Benito IESE': 3, 'Peter Shim IESE': 3, 'Dino IESE': 2, 'Valentina Posada': 2, 'Ana Paula IESE': 2, 'Jay Mohnot': 1, 'Nesi Laros': 1, 'Jan Warmus': 1, 'Andrea Biancardi': 1, 'Eric Wong IESE': 1, 'Ting Wei Huang IESE': 1, 'Alan Luer IESE': 1, 'Maria Carnal IESE': 1, '\\u202a+351\\xa0913\\xa0401\\xa0922\\u202c': 1, 'Krishna Chaitanya': 1}), 'Wiehahn Gouws': Counter({'Wiehahn Gouws': 53, 'Claudia IESE 🇪🇸': 25, 'Pia Fabbroni': 22, 'Jasson': 19, 'Barbara Handam IESE': 18, 'Julieta Lucci': 15, 'Chris Coraggio IESE': 12, 'Gonzalo Diaz': 12, 'Francisco Sá IESE': 11, 'Parsa Ghavimi': 11, 'Jose IESE': 11, 'Aakanksha': 10, 'Andy Klein Iese': 10, 'Jorge Arbolí': 9, 'Roberto Siman': 9, 'Dan Faermark': 8, 'Lucas Afonso': 7, 'Andrea Biancardi': 6, 'Natalia Krüger IESE': 6, 'Dino IESE': 5, 'Michael Gross': 5, 'Veronica Rodriguez': 4, 'Marilyn Heymann': 3, 'Reyes DuPont IESE': 3, 'Pranav IESE': 3, 'Ana Paula IESE': 3, 'Alessandro Galli': 3, 'Krishna Chaitanya': 3, 'Jordan Altaras': 3, 'Harry HH IESE': 3, 'Cody Brasel': 2, 'Marc IESE': 2, 'Disha IESE': 2, 'Robin': 2, 'Jaime Llorente IESE': 2, 'Juan Diego Mujica IESE': 2, 'Luiza Cervetto': 2, 'Natalia Krüger': 1, 'Aparna Murali': 1, 'Juana Toranzos': 1, 'Thais Cirenza': 1, 'Ricard Vilella IESE': 1, 'Alvaro Benito IESE': 1, 'Parth IESE': 1, 'Sebastian Cyprus': 1, 'Andres Villanueva': 1, 'Matthieu Haddad IESE': 1, 'Caio Tonon': 1, 'Shelly IESE 🇨🇦': 1, 'Shun Sekine IESE': 1, 'Maria Carnal IESE': 1, 'Hakan Karabey': 1, 'Nikita IESE': 1, 'Alan Luer IESE': 1, '\\u202a+34\\xa0697\\xa086\\xa046\\xa042\\u202c': 1}), 'Dino IESE': Counter({'Dino IESE': 25, 'Chris Coraggio IESE': 15, 'Jorge Arbolí': 11, 'Lucas Afonso': 10, 'Pia Fabbroni': 10, 'Francisco Sá IESE': 9, 'Claudia IESE 🇪🇸': 9, 'Julieta Lucci': 9, 'Barbara Handam IESE': 8, 'Jordan Altaras': 8, 'Jasson': 8, 'Juana Toranzos': 8, 'Aakanksha': 7, 'Dan Faermark': 7, 'Andy Klein Iese': 6, 'Charlie Porter': 5, 'Ana Paula IESE': 5, 'Robin': 5, 'Parsa Ghavimi': 5, 'Veronica Rodriguez': 4, 'Aparna Murali': 4, 'Pranav IESE': 4, 'Gonzalo Diaz': 3, 'Sebastian Cyprus': 3, 'Andres Pan De Soraluce': 3, 'Harry HH IESE': 3, 'Andrea Biancardi': 3, 'Roberto Siman': 3, 'Alvaro Benito IESE': 3, 'Parth IESE': 3, 'Marilyn Heymann': 3, 'Cody Brasel': 3, 'Jay Mohnot': 2, 'Eric Wong IESE': 2, 'Jaime Llorente IESE': 2, 'Wiehahn Gouws': 2, 'Jose IESE': 2, 'Juan Diego Mujica IESE': 2, 'Luiza Cervetto': 2, 'Ásgeir IESE': 2, 'Diogo Borges De Andrade IESE': 2, '\\u202a+51\\xa0973\\xa0833\\xa0697\\u202c': 1, 'Eugenia Delosrios IESE': 1, 'Michael Gross': 1, 'Caio Tonon': 1, 'Tote Picañol': 1, 'Hakan Karabey': 1, 'Alessandro Galli': 1, 'Natalia Krüger IESE': 1, 'Krishna Chaitanya': 1, 'Slivia IESE': 1, 'Shun Sekine IESE': 1, 'Reyes DuPont IESE': 1, 'Matthieu Haddad IESE': 1, 'Alan Luer IESE': 1}), 'Por Boonyam': Counter({'Por Boonyam': 5, 'Pia Fabbroni': 2, 'Parsa Ghavimi': 2, 'Ana Paula IESE': 1, 'Jasson': 1, 'Barbara Handam IESE': 1, 'Wiehahn Gouws': 1, 'Jorge Arbolí': 1, 'Tote Picañol': 1, 'Luiza Cervetto': 1, 'Jordan Altaras': 1, 'Aparna Murali': 1, 'Jose IESE': 1, 'Jaime Llorente IESE': 1}), 'Valentina Posada': Counter({'Valentina Posada': 8, 'Juana Toranzos': 4, 'Dan Faermark': 3, 'Alan Luer IESE': 3, 'Claudia IESE 🇪🇸': 3, 'Julieta Lucci': 2, 'Krishna Chaitanya': 2, 'Lucas Afonso': 2, 'Barbara Handam IESE': 2, 'Francisco Sá IESE': 2, 'Jorge Arbolí': 2, 'Jaime Llorente IESE': 2, 'Pranav IESE': 2, 'Juan Diego Mujica IESE': 2, 'Parsa Ghavimi': 1, 'Pia Fabbroni': 1, 'Andy Klein Iese': 1, 'Reyes DuPont IESE': 1, 'Chris Coraggio IESE': 1, 'Gonzalo Diaz': 1, 'Maria Carnal IESE': 1, 'Thais Cirenza': 1, 'Dino IESE': 1, 'Andres Pan De Soraluce': 1, 'Andrea Biancardi': 1, 'Marilyn Heymann': 1, 'Marc IESE': 1, 'Eric Wong IESE': 1, 'Hakan Karabey': 1, 'Roberto Siman': 1, 'Ana Paula IESE': 1, 'Alessandro Galli': 1, 'Sebastian Cyprus': 1, 'Philip Pratte IESE': 1, 'Jasson': 1}), 'Ana Paula IESE': Counter({'Claudia IESE 🇪🇸': 18, 'Pia Fabbroni': 14, 'Jasson': 12, 'Ana Paula IESE': 8, 'Chris Coraggio IESE': 8, 'Barbara Handam IESE': 8, 'Roberto Siman': 6, 'Francisco Sá IESE': 6, 'Parsa Ghavimi': 6, 'Alan Luer IESE': 5, 'Marilyn Heymann': 5, 'Aparna Murali': 5, 'Juana Toranzos': 5, 'Jordan Altaras': 5, 'Andrea Biancardi': 4, 'Wiehahn Gouws': 4, 'Andy Klein Iese': 4, 'Gonzalo Diaz': 4, 'Veronica Rodriguez': 4, 'Shelly IESE 🇨🇦': 4, 'Lucas Afonso': 4, 'Jaime Llorente IESE': 3, 'Cody Brasel': 3, 'Natalia Krüger IESE': 3, 'Thais Cirenza': 3, 'Nesi Laros': 3, 'Disha IESE': 3, 'Julieta Lucci': 3, 'Juan Diego Mujica IESE': 3, 'Robin': 3, 'Parth IESE': 3, 'Jose IESE': 3, 'Dan Faermark': 3, 'Slivia IESE': 3, 'Sebastian Cyprus': 3, 'Eric Wong IESE': 3, 'Pranav IESE': 3, 'Ricard Vilella IESE': 2, 'Jie Yang IESE': 2, 'Alvaro Benito IESE': 2, 'Dino IESE': 2, 'Matthieu Haddad IESE': 2, 'Harry HH IESE': 2, 'Marc IESE': 2, 'Andres Villanueva': 2, 'Jorge Arbolí': 2, 'Tote Picañol': 1, 'Philip Pratte IESE': 1, 'Yuka Ato IESE': 1, 'Taebo Shim': 1, 'Aakanksha': 1, 'Andres Pan De Soraluce': 1, 'Nikita IESE': 1, 'Alessandro Galli': 1, 'Michael Gross': 1, 'Eugenia Delosrios IESE': 1, 'Krishna Chaitanya': 1, 'Ásgeir IESE': 1, 'Diogo Borges De Andrade IESE': 1, 'Hakan Karabey': 1, '\\u202a+34\\xa0697\\xa086\\xa046\\xa042\\u202c': 1}), 'Jan Warmus': Counter({'Francisco Sá IESE': 2, 'Slivia IESE': 1, 'Shelly IESE 🇨🇦': 1, 'Harry HH IESE': 1, 'Pia Fabbroni': 1, 'Julieta Lucci': 1, 'Thais Cirenza': 1, 'Andrea Biancardi': 1, 'Jasson': 1, 'Parth IESE': 1}), 'Sebastian Cyprus': Counter({'Sebastian Cyprus': 15, 'Jasson': 11, 'Gonzalo Diaz': 10, 'Claudia IESE 🇪🇸': 8, 'Roberto Siman': 7, 'Parsa Ghavimi': 7, 'Dan Faermark': 7, 'Aparna Murali': 6, 'Francisco Sá IESE': 6, 'Chris Coraggio IESE': 5, 'Jaime Llorente IESE': 5, 'Pia Fabbroni': 5, 'Andy Klein Iese': 4, 'Luiza Cervetto': 4, 'Barbara Handam IESE': 3, 'Andres Villanueva': 3, 'Jorge Arbolí': 3, 'Hakan Karabey': 3, 'Marc IESE': 3, 'Andres Pan De Soraluce': 3, 'Julieta Lucci': 2, 'Pranav IESE': 2, 'Parth IESE': 2, 'Alvaro Benito IESE': 2, 'Charlie Porter': 2, 'Veronica Rodriguez': 2, 'Matthieu Haddad IESE': 2, 'Maria Carnal IESE': 2, 'Alan Luer IESE': 2, 'Disha IESE': 2, 'Reyes DuPont IESE': 2, 'Alessandro Galli': 2, 'Lucas Afonso': 2, 'Nesi Laros': 2, 'Ásgeir IESE': 2, 'Diogo Borges De Andrade IESE': 2, 'Jordan Altaras': 1, 'Ana Paula IESE': 1, 'Cody Brasel': 1, 'Marilyn Heymann': 1, 'Michael Gross': 1, 'Thais Cirenza': 1, 'Dino IESE': 1, 'Ricard Vilella IESE': 1, 'Natalia Krüger IESE': 1, 'Caio Tonon': 1, 'Robin': 1, 'Juana Toranzos': 1, 'Philip Pratte IESE': 1, 'Jan Warmus': 1}), 'Taebo Shim': Counter({'Taebo Shim': 14, 'Gonzalo Diaz': 6, 'Francisco Sá IESE': 5, 'Chris Coraggio IESE': 5, 'Jasson': 4, 'Aakanksha': 3, 'Barbara Handam IESE': 3, 'Claudia IESE 🇪🇸': 3, 'Pia Fabbroni': 3, 'Pranav IESE': 3, 'Alessandro Galli': 2, 'Roberto Siman': 2, 'Shelly IESE 🇨🇦': 2, 'Ana Paula IESE': 2, 'Marc IESE': 2, 'Dan Faermark': 2, 'Matthieu Haddad IESE': 2, 'Jaime Llorente IESE': 1, 'Philip Pratte IESE': 1, 'Nesi Laros': 1, 'Disha IESE': 1, 'Slivia IESE': 1, 'Veronica Rodriguez': 1, 'Thais Cirenza': 1, 'Cody Brasel': 1, 'Julieta Lucci': 1, 'Ting Wei Huang IESE': 1, 'Lucas Afonso': 1, 'Parth IESE': 1, 'Maria Carnal IESE': 1, 'Robin': 1, 'Jordan Altaras': 1, 'Andy Klein Iese': 1, 'Parsa Ghavimi': 1, 'Hari Harsha': 1, 'Eric Wong IESE': 1, 'Natalia Krüger IESE': 1, 'Jorge Arbolí': 1, 'Dino IESE': 1, 'Harry HH IESE': 1, 'Ásgeir IESE': 1}), 'Juan Diego Mujica IESE': Counter({'Pia Fabbroni': 7, 'Parsa Ghavimi': 4, 'Chris Coraggio IESE': 4, 'Jasson': 4, 'Andrea Biancardi': 4, 'Aparna Murali': 4, 'Jay Mohnot': 4, 'Pranav IESE': 3, 'Claudia IESE 🇪🇸': 3, 'Dan Faermark': 3, 'Jaime Llorente IESE': 3, 'Krishna Chaitanya': 3, 'Juana Toranzos': 3, 'Julieta Lucci': 2, 'Andy Klein Iese': 2, 'Diogo Borges De Andrade IESE': 2, 'Andres Pan De Soraluce': 2, 'Barbara Handam IESE': 2, 'Robin': 2, 'Valentina Posada': 2, 'Philip Pratte IESE': 2, 'Lucas Afonso': 2, 'Alan Luer IESE': 1, 'Taebo Shim': 1, 'Shun Sekine IESE': 1, 'Ricard Vilella IESE': 1, 'Natalia Krüger IESE': 1, 'Disha IESE': 1, 'Slivia IESE': 1, 'Marilyn Heymann': 1, 'Andres Villanueva': 1, 'Tote Picañol': 1, 'Parth IESE': 1, 'Sebastian Cyprus': 1, 'Veronica Rodriguez': 1, 'Jorge Arbolí': 1, 'Maria Carnal IESE': 1, 'Alessandro Galli': 1, 'Cody Brasel': 1, 'Ana Paula IESE': 1, 'Peter Shim IESE': 1, 'Juan Diego Mujica IESE': 1}), 'Andres Villanueva': Counter({'Parsa Ghavimi': 13, 'Jasson': 13, 'Andres Villanueva': 12, 'Juana Toranzos': 10, 'Francisco Sá IESE': 7, 'Jorge Arbolí': 7, 'Claudia IESE 🇪🇸': 7, 'Pia Fabbroni': 7, 'Chris Coraggio IESE': 6, 'Barbara Handam IESE': 6, 'Jordan Altaras': 5, 'Dan Faermark': 5, 'Sebastian Cyprus': 5, 'Roberto Siman': 5, 'Aparna Murali': 4, 'Ting Wei Huang IESE': 4, 'Andy Klein Iese': 4, 'Jose IESE': 4, 'Andres Pan De Soraluce': 3, 'Eric Wong IESE': 3, 'Slivia IESE': 3, 'Gonzalo Diaz': 3, 'Veronica Rodriguez': 3, 'Marc IESE': 3, 'Lucas Afonso': 3, 'Thais Cirenza': 3, 'Ricard Vilella IESE': 3, 'Pranav IESE': 3, 'Alvaro Benito IESE': 2, 'Cody Brasel': 2, 'Jaime Llorente IESE': 2, 'Luiza Cervetto': 2, 'Maria Carnal IESE': 2, 'Disha IESE': 2, 'Diogo Borges De Andrade IESE': 2, 'Jay Mohnot': 2, 'Marilyn Heymann': 2, 'Shelly IESE 🇨🇦': 1, 'Por Boonyam': 1, 'Michael Gross': 1, 'Alessandro Galli': 1, 'Dino IESE': 1, 'Charlie Porter': 1, 'Julieta Lucci': 1, 'Hakan Karabey': 1, 'Nesi Laros': 1, 'Matthieu Haddad IESE': 1, 'Hari Harsha': 1}), 'Natalia Krüger IESE': Counter({'Natalia Krüger IESE': 65, 'Jasson': 25, 'Pia Fabbroni': 23, 'Claudia IESE 🇪🇸': 21, 'Francisco Sá IESE': 20, 'Roberto Siman': 16, 'Parsa Ghavimi': 16, 'Barbara Handam IESE': 15, 'Andy Klein Iese': 15, 'Chris Coraggio IESE': 14, 'Gonzalo Diaz': 14, 'Jordan Altaras': 11, 'Jorge Arbolí': 10, 'Juana Toranzos': 10, 'Dan Faermark': 10, 'Jose IESE': 9, 'Lucas Afonso': 7, 'Aparna Murali': 7, 'Thais Cirenza': 6, 'Alessandro Galli': 6, 'Veronica Rodriguez': 6, 'Matthieu Haddad IESE': 6, 'Eugenia Delosrios IESE': 5, 'Parth IESE': 4, 'Taebo Shim': 4, 'Jaime Llorente IESE': 4, 'Marilyn Heymann': 4, 'Aakanksha': 4, 'Pranav IESE': 4, 'Marc IESE': 3, 'Julieta Lucci': 3, 'Wiehahn Gouws': 3, 'Disha IESE': 3, 'Eric Wong IESE': 3, 'Diogo Borges De Andrade IESE': 3, 'Jay Mohnot': 3, 'Hakan Karabey': 3, 'Dino IESE': 2, 'Cody Brasel': 2, 'Hari Harsha': 2, 'Ana Paula IESE': 2, 'Ricard Vilella IESE': 2, 'Robin': 2, 'Tote Picañol': 2, 'Andres Villanueva': 2, 'Luiza Cervetto': 2, 'Harry HH IESE': 2, 'Alvaro Benito IESE': 2, 'Shelly IESE 🇨🇦': 2, 'Andrea Biancardi': 1, 'Nesi Laros': 1, 'Jie Yang IESE': 1, 'Nikita IESE': 1, 'Ásgeir IESE': 1, 'Valentina Posada': 1, 'Krishna Chaitanya': 1, 'Michael Gross': 1, 'Por Boonyam': 1, 'Peter Shim IESE': 1}), '\\u202a+56\\xa09\\xa07543\\xa07459\\u202c': Counter({'Jasson': 1, 'Dan Faermark': 1, 'Julieta Lucci': 1, 'Parsa Ghavimi': 1}), '\\u202a+62\\xa0813‑7368‑3039\\u202c': Counter({'Chris Coraggio IESE': 1, 'Juana Toranzos': 1}), 'Peter Shim IESE': Counter({'Peter Shim IESE': 1, 'Jasson': 1, 'Ana Paula IESE': 1, 'Gonzalo Diaz': 1, 'Shun Sekine IESE': 1, 'Pranav IESE': 1, 'Juana Toranzos': 1, 'Parth IESE': 1}), '\\u202a+354\\xa0844\\xa04495\\u202c': Counter({'Harry HH IESE': 1, 'Francisco Sá IESE': 1}), '\\u202a+34\\xa0697\\xa086\\xa046\\xa042\\u202c': Counter({'Andrea Biancardi': 1, '\\u202a+34\\xa0697\\xa086\\xa046\\xa042\\u202c': 1, 'Pia Fabbroni': 1, 'Pranav IESE': 1, 'Jasson': 1}), '\\u202a+351\\xa0913\\xa0401\\xa0922\\u202c': Counter({'Eugenia Delosrios IESE': 2, '\\u202a+351\\xa0913\\xa0401\\xa0922\\u202c': 2, 'Julieta Lucci': 1, 'Jasson': 1, 'Claudia IESE 🇪🇸': 1, 'Matthieu Haddad IESE': 1, 'Chris Coraggio IESE': 1, 'Ricard Vilella IESE': 1})}\n"
          ],
          "name": "stdout"
        }
      ]
    },
    {
      "cell_type": "code",
      "metadata": {
        "id": "ysDojt1Lp6Xy",
        "colab": {
          "base_uri": "https://localhost:8080/"
        },
        "outputId": "b3b74b2f-c767-4fb7-c925-7534ad3daacc"
      },
      "source": [
        "replies_reshaped =[]\n",
        "for k,v in replies.items():\n",
        "    replies_reshaped.append([k, get_most_replied_users(v)])\n",
        "\n",
        "replies_reshaped_df = pd.DataFrame(replies_reshaped)\n",
        "\n",
        "print(replies_reshaped_df)\n",
        "\n"
      ],
      "execution_count": null,
      "outputs": [
        {
          "output_type": "stream",
          "text": [
            "                               0                                                  1\n",
            "0   🏳️‍🌈 Best Section IESE 2021!                                                   \n",
            "1            ‪+1 (514) 999‑4123‬    Aparna Murali|Parsa Ghavimi|Jaime Llorente IESE\n",
            "2                   Lucas Afonso              Lucas Afonso|Jasson|Francisco Sá IESE\n",
            "3            Barbara Handam IESE       Barbara Handam IESE|Jasson|Francisco Sá IESE\n",
            "4            Chris Coraggio IESE            Chris Coraggio IESE|Gonzalo Diaz|Jasson\n",
            "..                           ...                                                ...\n",
            "83           ‪+62 813‑7368‑3039‬                 Chris Coraggio IESE|Juana Toranzos\n",
            "84               Peter Shim IESE              Peter Shim IESE|Jasson|Ana Paula IESE\n",
            "85               ‪+354 844 4495‬                    Harry HH IESE|Francisco Sá IESE\n",
            "86            ‪+34 697 86 46 42‬   Andrea Biancardi|‪+34 697 86 46 42‬|Pia Fabbroni\n",
            "87            ‪+351 913 401 922‬  Eugenia Delosrios IESE|‪+351 913 401 922‬|Juli...\n",
            "\n",
            "[88 rows x 2 columns]\n"
          ],
          "name": "stdout"
        }
      ]
    },
    {
      "cell_type": "code",
      "metadata": {
        "id": "wvhxEE74eDR7"
      },
      "source": [
        "replies_reshaped_df.to_csv(\"051920212300_replies_df.csv\",index=False)"
      ],
      "execution_count": null,
      "outputs": []
    }
  ]
}